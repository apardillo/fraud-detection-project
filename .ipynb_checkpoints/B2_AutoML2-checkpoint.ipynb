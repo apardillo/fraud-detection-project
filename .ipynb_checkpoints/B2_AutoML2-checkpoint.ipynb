{
 "cells": [
  {
   "attachments": {},
   "cell_type": "markdown",
   "metadata": {},
   "source": [
    "<div><span style=\"background-color: #9e4244; padding-top: 80px; padding-right: 20px; padding-bottom: 50px; padding-left: 20px; color: white; font-size: 22px; font-weight: bold\">Machine Learning Pipeline</span></div>"
   ]
  },
  {
   "cell_type": "code",
   "execution_count": 1,
   "metadata": {
    "ExecuteTime": {
     "end_time": "2022-06-25T17:06:40.840624Z",
     "start_time": "2022-06-25T17:06:26.941745Z"
    }
   },
   "outputs": [],
   "source": [
    "# General Libraries\n",
    "import re\n",
    "import time\n",
    "import warnings\n",
    "import numpy as np\n",
    "import pandas as pd\n",
    "from tqdm.notebook import tqdm\n",
    "from collections import Counter\n",
    "warnings.filterwarnings(\"ignore\")\n",
    "\n",
    "# Visualizations\n",
    "import seaborn as sns\n",
    "#from termcolor import colored\n",
    "import matplotlib.pyplot as plt\n",
    "import plotly.graph_objects as go\n",
    "\n",
    "# Sklearn\n",
    "from sklearn.preprocessing import MinMaxScaler\n",
    "from sklearn.model_selection import (train_test_split, GridSearchCV,\n",
    "                                     StratifiedKFold)\n",
    "from sklearn.neighbors import KNeighborsClassifier\n",
    "from sklearn.svm import SVC\n",
    "from sklearn.linear_model import LogisticRegression\n",
    "from sklearn.naive_bayes import GaussianNB\n",
    "from sklearn.tree import DecisionTreeClassifier\n",
    "from sklearn.ensemble import (RandomForestClassifier,  \n",
    "                              GradientBoostingClassifier)\n",
    "from sklearn.model_selection import cross_validate\n",
    "from sklearn.metrics import (ConfusionMatrixDisplay, precision_score, recall_score)\n",
    "\n",
    "# Imblearn\n",
    "# from imblearn.pipeline import Pipeline, make_pipeline\n",
    "# from imblearn.over_sampling import (SMOTE, ADASYN, BorderlineSMOTE, SVMSMOTE)\n",
    "# from imblearn.under_sampling import (TomekLinks, NearMiss, AllKNN,\n",
    "#                                      EditedNearestNeighbours, \n",
    "#                                      RepeatedEditedNearestNeighbours) \n",
    "# from imblearn.combine import SMOTETomek, SMOTEENN\n",
    "\n",
    "\n",
    "#from getml.predictors import XGBoostClassifier\n",
    "#import xgboost as xgb\n",
    "# SHAP\n",
    "# interpretability\n",
    "\n",
    "\n",
    "import shap\n",
    "#shap.initjs()\n",
    "\n",
    "\n"
   ]
  },
  {
   "cell_type": "code",
   "execution_count": 2,
   "metadata": {
    "ExecuteTime": {
     "end_time": "2022-06-25T17:06:47.142146Z",
     "start_time": "2022-06-25T17:06:40.843628Z"
    }
   },
   "outputs": [
    {
     "data": {
      "text/plain": [
       "(10426, 222)"
      ]
     },
     "execution_count": 2,
     "metadata": {},
     "output_type": "execute_result"
    }
   ],
   "source": [
    "#df = pd.read_csv('Empty Notebooks/cc_df.csv', nrows=100000)\n",
    "\n",
    "df = pd.read_csv('data/g4_filtered.csv', nrows=100000)\n",
    "\n",
    "df.shape"
   ]
  },
  {
   "cell_type": "code",
   "execution_count": 3,
   "metadata": {
    "ExecuteTime": {
     "end_time": "2022-06-25T17:06:59.724833Z",
     "start_time": "2022-06-25T17:06:59.489891Z"
    }
   },
   "outputs": [
    {
     "name": "stdout",
     "output_type": "stream",
     "text": [
      "Would Recommend:       0\n",
      "0  10046\n",
      "1    380\n",
      "Proportion Chance Criterion: 92.98%\n",
      "1.25 * Proportion Chance Criterion: 116.22%\n"
     ]
    },
    {
     "data": {
      "image/png": "[encoded data removed]",
      "text/plain": [
       "<Figure size 640x480 with 1 Axes>"
      ]
     },
     "metadata": {},
     "output_type": "display_data"
    }
   ],
   "source": [
    "state_counts = Counter(df['is_fraud'])\n",
    "df_state = pd.DataFrame.from_dict(state_counts, orient='index')\n",
    "df_state.plot(kind='bar', color='pink')\n",
    "\n",
    "num=(df_state[0]/df_state[0].sum())**2\n",
    "\n",
    "print(\"Would Recommend:{}\".format(df_state))\n",
    "\n",
    "print(\"Proportion Chance Criterion: {:0.2f}%\".format(100*num.sum()))\n",
    "print(\"1.25 * Proportion Chance Criterion: {:0.2f}%\".format(1.25*100*num.sum()))"
   ]
  },
  {
   "cell_type": "code",
   "execution_count": 4,
   "metadata": {
    "ExecuteTime": {
     "end_time": "2022-06-25T17:07:01.323651Z",
     "start_time": "2022-06-25T17:07:00.408410Z"
    }
   },
   "outputs": [],
   "source": [
    "X = df.drop(['is_fraud'], axis=1)\n",
    "y = df['is_fraud']\n",
    "(X_trainval, X_holdout, y_trainval, y_holdout) = train_test_split(X, y, \n",
    "                                                                  random_state=11, test_size=0.25,\n",
    "                                                                  stratify=y)"
   ]
  },
  {
   "cell_type": "markdown",
   "metadata": {},
   "source": [
    "<div><span style=\"background-color: #ff0257; padding-top: 100px; padding-right: 20px; padding-bottom: 50px; padding-left: 20px; color: #FFFAF0; font-size: 18px; font-weight: bold\">Auto-ML </span></div>"
   ]
  },
  {
   "cell_type": "code",
   "execution_count": 5,
   "metadata": {
    "ExecuteTime": {
     "end_time": "2022-06-25T17:07:04.220771Z",
     "start_time": "2022-06-25T17:07:04.197393Z"
    }
   },
   "outputs": [],
   "source": [
    "def auto_ml(X, y, models_dict, scaler=None, cv=None, res_t=None):\n",
    "    \"\"\"Apply resampling for imbalanced data\"\"\"\n",
    "    results = {}\n",
    "    results2 = {}\n",
    "\n",
    "    # log start time\n",
    "    total_start = time.time()\n",
    "\n",
    "    for model_name, model in tqdm(models_dict.items()):\n",
    "        \n",
    "        ################# this portion can be edited ###############\n",
    "        train_scores = []\n",
    "        val_scores = []\n",
    "\n",
    "        train_recall = []\n",
    "        val_recall = []\n",
    "\n",
    "        ###########################################################\n",
    "\n",
    "        for train_index, val_index in tqdm(cv.split(X, y)):\n",
    "\n",
    "            X_train, X_val = X.iloc[train_index], X.iloc[val_index]\n",
    "            y_train, y_val = y.iloc[train_index], y.iloc[val_index]\n",
    "\n",
    "            # Apply scaling\n",
    "            if scaler is not None:\n",
    "                X_train = scaler.fit_transform(X_train)\n",
    "                X_val = scaler.transform(X_val)\n",
    "            else:\n",
    "                pass\n",
    "\n",
    "            # Apply resampling\n",
    "            if res_t is not None:\n",
    "                s = time.time()\n",
    "                X_train, y_train = res_t.fit_resample(X_train, y_train)\n",
    "                print(f'Resampling done in {time.time() - s}')\n",
    "            else:\n",
    "                pass\n",
    "\n",
    "            start_time = time.time()\n",
    "\n",
    "            # fit\n",
    "            model.fit(X_train, y_train)\n",
    "\n",
    "            # predict\n",
    "            train_preds = model.predict(X_train)\n",
    "            val_preds = model.predict(X_val)\n",
    "            \n",
    "            ################# this portion can be edited ###############\n",
    "\n",
    "            # classification accuracy\n",
    "            train_scores.append(model.score(X_train, y_train))\n",
    "            val_scores.append(model.score(X_val, y_val))\n",
    "\n",
    "            # recall\n",
    "            train_recall.append(recall_score(y_train, train_preds))\n",
    "            val_recall.append(recall_score(y_val, val_preds))\n",
    "\n",
    "            end_time = time.time()\n",
    "\n",
    "            results[model_name] = {\n",
    "                'Train Accuracy': np.round(np.mean(train_scores) * 100, 2),\n",
    "                'Val Accuracy': np.round(np.mean(val_scores) * 100, 2),\n",
    "                'Train Recall': np.round(np.mean(train_recall) * 100, 2),\n",
    "                'Val Recall': np.round(np.mean(val_recall) * 100, 2),\n",
    "                'Run Time': end_time - start_time\n",
    "            }\n",
    "\n",
    "            results2[model_name] = {\n",
    "                'Train Accuracy': '{:.2f}%'.format(np.round(np.mean(train_scores)*100, 2)),\n",
    "                'Val Accuracy': '{:.2f}%'.format(np.round(np.mean(val_scores)*100, 2)),\n",
    "                'Train Recall': '{:.2f}%'.format(np.round(np.mean(train_recall)*100, 2)),\n",
    "                'Val Recall': '{:.2f}%'.format(np.round(np.mean(val_recall)*100, 2)),\n",
    "                'Run Time': end_time - start_time\n",
    "            }\n",
    "            \n",
    "            ###########################################################\n",
    "\n",
    "    results = pd.DataFrame(results).T\n",
    "    results2 = pd.DataFrame(results2).T\n",
    "    return [results, results2]"
   ]
  },
  {
   "cell_type": "markdown",
   "metadata": {},
   "source": [
    "### Baseline"
   ]
  },
  {
   "cell_type": "code",
   "execution_count": 6,
   "metadata": {
    "ExecuteTime": {
     "end_time": "2022-06-25T18:00:46.201827Z",
     "start_time": "2022-06-25T18:00:46.191744Z"
    }
   },
   "outputs": [],
   "source": [
    "#models_dict = {'GaussianNB': GaussianNB(),\n",
    "              #'RandomForestClassifier': RandomForestClassifier(random_state=143)}\n",
    "\n",
    "    \n",
    "    \n",
    "# models_dict = {\n",
    "#     'KNeighborsClassifier': KNeighborsClassifier(),\n",
    "#     'LogisticRegressor': LogisticRegression(),\n",
    "#     'GaussianNB': GaussianNB(),\n",
    "#     'RandomForestClassifier': RandomForestClassifier(random_state=143),\n",
    "#     'DecisionTreeClassifier': DecisionTreeClassifier(random_state=143),\n",
    "#     'GradientBoostingClassifier': GradientBoostingClassifier(random_state=143)   \n",
    "# }\n",
    "\n",
    "\n",
    "models_dict = {\n",
    "     'GradientBoostingClassifier': GradientBoostingClassifier(random_state=143),   \n",
    "     'RandomForestClassifier': RandomForestClassifier(random_state=143),\n",
    "     'LogisticRegressor': LogisticRegression(),\n",
    " }"
   ]
  },
  {
   "cell_type": "code",
   "execution_count": 7,
   "metadata": {
    "ExecuteTime": {
     "end_time": "2022-06-25T18:03:16.405058Z",
     "start_time": "2022-06-25T18:00:47.131514Z"
    }
   },
   "outputs": [
    {
     "ename": "ImportError",
     "evalue": "IProgress not found. Please update jupyter and ipywidgets. See https://ipywidgets.readthedocs.io/en/stable/user_install.html",
     "output_type": "error",
     "traceback": [
      "\u001b[1;31m---------------------------------------------------------------------------\u001b[0m",
      "\u001b[1;31mImportError\u001b[0m                               Traceback (most recent call last)",
      "Cell \u001b[1;32mIn[7], line 1\u001b[0m\n\u001b[1;32m----> 1\u001b[0m auto_run \u001b[39m=\u001b[39m auto_ml(X_trainval, y_trainval, models_dict, scaler\u001b[39m=\u001b[39;49mMinMaxScaler(),\n\u001b[0;32m      2\u001b[0m                cv\u001b[39m=\u001b[39;49mStratifiedKFold(n_splits\u001b[39m=\u001b[39;49m\u001b[39m5\u001b[39;49m))\n\u001b[0;32m      3\u001b[0m auto \u001b[39m=\u001b[39m auto_run[\u001b[39m0\u001b[39m]\n\u001b[0;32m      4\u001b[0m auto_run[\u001b[39m1\u001b[39m]\n",
      "Cell \u001b[1;32mIn[5], line 9\u001b[0m, in \u001b[0;36mauto_ml\u001b[1;34m(X, y, models_dict, scaler, cv, res_t)\u001b[0m\n\u001b[0;32m      6\u001b[0m \u001b[39m# log start time\u001b[39;00m\n\u001b[0;32m      7\u001b[0m total_start \u001b[39m=\u001b[39m time\u001b[39m.\u001b[39mtime()\n\u001b[1;32m----> 9\u001b[0m \u001b[39mfor\u001b[39;00m model_name, model \u001b[39min\u001b[39;00m tqdm(models_dict\u001b[39m.\u001b[39;49mitems()):\n\u001b[0;32m     10\u001b[0m     \n\u001b[0;32m     11\u001b[0m     \u001b[39m################# this portion can be edited ###############\u001b[39;00m\n\u001b[0;32m     12\u001b[0m     train_scores \u001b[39m=\u001b[39m []\n\u001b[0;32m     13\u001b[0m     val_scores \u001b[39m=\u001b[39m []\n",
      "File \u001b[1;32md:\\anaconda3\\envs\\fraud_venv2\\lib\\site-packages\\tqdm\\notebook.py:243\u001b[0m, in \u001b[0;36mtqdm_notebook.__init__\u001b[1;34m(self, *args, **kwargs)\u001b[0m\n\u001b[0;32m    241\u001b[0m unit_scale \u001b[39m=\u001b[39m \u001b[39m1\u001b[39m \u001b[39mif\u001b[39;00m \u001b[39mself\u001b[39m\u001b[39m.\u001b[39munit_scale \u001b[39mis\u001b[39;00m \u001b[39mTrue\u001b[39;00m \u001b[39melse\u001b[39;00m \u001b[39mself\u001b[39m\u001b[39m.\u001b[39munit_scale \u001b[39mor\u001b[39;00m \u001b[39m1\u001b[39m\n\u001b[0;32m    242\u001b[0m total \u001b[39m=\u001b[39m \u001b[39mself\u001b[39m\u001b[39m.\u001b[39mtotal \u001b[39m*\u001b[39m unit_scale \u001b[39mif\u001b[39;00m \u001b[39mself\u001b[39m\u001b[39m.\u001b[39mtotal \u001b[39melse\u001b[39;00m \u001b[39mself\u001b[39m\u001b[39m.\u001b[39mtotal\n\u001b[1;32m--> 243\u001b[0m \u001b[39mself\u001b[39m\u001b[39m.\u001b[39mcontainer \u001b[39m=\u001b[39m \u001b[39mself\u001b[39;49m\u001b[39m.\u001b[39;49mstatus_printer(\u001b[39mself\u001b[39;49m\u001b[39m.\u001b[39;49mfp, total, \u001b[39mself\u001b[39;49m\u001b[39m.\u001b[39;49mdesc, \u001b[39mself\u001b[39;49m\u001b[39m.\u001b[39;49mncols)\n\u001b[0;32m    244\u001b[0m \u001b[39mself\u001b[39m\u001b[39m.\u001b[39mcontainer\u001b[39m.\u001b[39mpbar \u001b[39m=\u001b[39m proxy(\u001b[39mself\u001b[39m)\n\u001b[0;32m    245\u001b[0m \u001b[39mself\u001b[39m\u001b[39m.\u001b[39mdisplayed \u001b[39m=\u001b[39m \u001b[39mFalse\u001b[39;00m\n",
      "File \u001b[1;32md:\\anaconda3\\envs\\fraud_venv2\\lib\\site-packages\\tqdm\\notebook.py:118\u001b[0m, in \u001b[0;36mtqdm_notebook.status_printer\u001b[1;34m(_, total, desc, ncols)\u001b[0m\n\u001b[0;32m    109\u001b[0m \u001b[39m# Fallback to text bar if there's no total\u001b[39;00m\n\u001b[0;32m    110\u001b[0m \u001b[39m# DEPRECATED: replaced with an 'info' style bar\u001b[39;00m\n\u001b[0;32m    111\u001b[0m \u001b[39m# if not total:\u001b[39;00m\n\u001b[1;32m   (...)\u001b[0m\n\u001b[0;32m    115\u001b[0m \n\u001b[0;32m    116\u001b[0m \u001b[39m# Prepare IPython progress bar\u001b[39;00m\n\u001b[0;32m    117\u001b[0m \u001b[39mif\u001b[39;00m IProgress \u001b[39mis\u001b[39;00m \u001b[39mNone\u001b[39;00m:  \u001b[39m# #187 #451 #558 #872\u001b[39;00m\n\u001b[1;32m--> 118\u001b[0m     \u001b[39mraise\u001b[39;00m \u001b[39mImportError\u001b[39;00m(WARN_NOIPYW)\n\u001b[0;32m    119\u001b[0m \u001b[39mif\u001b[39;00m total:\n\u001b[0;32m    120\u001b[0m     pbar \u001b[39m=\u001b[39m IProgress(\u001b[39mmin\u001b[39m\u001b[39m=\u001b[39m\u001b[39m0\u001b[39m, \u001b[39mmax\u001b[39m\u001b[39m=\u001b[39mtotal)\n",
      "\u001b[1;31mImportError\u001b[0m: IProgress not found. Please update jupyter and ipywidgets. See https://ipywidgets.readthedocs.io/en/stable/user_install.html"
     ]
    }
   ],
   "source": [
    "auto_run = auto_ml(X_trainval, y_trainval, models_dict, scaler=MinMaxScaler(),\n",
    "               cv=StratifiedKFold(n_splits=5))\n",
    "auto = auto_run[0]\n",
    "auto_run[1]"
   ]
  },
  {
   "cell_type": "markdown",
   "metadata": {},
   "source": [
    "### Applying resampling techniques"
   ]
  },
  {
   "cell_type": "markdown",
   "metadata": {},
   "source": [
    "#### Oversampling"
   ]
  },
  {
   "cell_type": "code",
   "execution_count": 8,
   "metadata": {
    "ExecuteTime": {
     "end_time": "2022-06-25T17:27:00.661394Z",
     "start_time": "2022-06-25T17:07:24.494356Z"
    }
   },
   "outputs": [
    {
     "name": "stdout",
     "output_type": "stream",
     "text": [
      "---------------------------------------------------\u001b[1m\u001b[31mSMOTE\u001b[0m---------------------------------------------------\n"
     ]
    },
    {
     "data": {
      "application/vnd.jupyter.widget-view+json": {
       "model_id": "005ff2f3538c4b359e862c5146368eee",
       "version_major": 2,
       "version_minor": 0
      },
      "text/plain": [
       "  0%|          | 0/3 [00:00<?, ?it/s]"
      ]
     },
     "metadata": {},
     "output_type": "display_data"
    },
    {
     "data": {
      "application/vnd.jupyter.widget-view+json": {
       "model_id": "0a0d9c3cce564521aac4273954a53219",
       "version_major": 2,
       "version_minor": 0
      },
      "text/plain": [
       "0it [00:00, ?it/s]"
      ]
     },
     "metadata": {},
     "output_type": "display_data"
    },
    {
     "name": "stdout",
     "output_type": "stream",
     "text": [
      "Resampling done in 0.13452601432800293\n",
      "Resampling done in 0.027006149291992188\n",
      "Resampling done in 0.027005910873413086\n",
      "Resampling done in 0.02600574493408203\n",
      "Resampling done in 0.028006315231323242\n"
     ]
    },
    {
     "data": {
      "application/vnd.jupyter.widget-view+json": {
       "model_id": "cee50e58570a473ea64c05159ce66f77",
       "version_major": 2,
       "version_minor": 0
      },
      "text/plain": [
       "0it [00:00, ?it/s]"
      ]
     },
     "metadata": {},
     "output_type": "display_data"
    },
    {
     "name": "stdout",
     "output_type": "stream",
     "text": [
      "Resampling done in 0.028007030487060547\n",
      "Resampling done in 0.027006149291992188\n",
      "Resampling done in 0.028006553649902344\n",
      "Resampling done in 0.028240442276000977\n",
      "Resampling done in 0.028006553649902344\n"
     ]
    },
    {
     "data": {
      "application/vnd.jupyter.widget-view+json": {
       "model_id": "e565f4c21691475c8323e8cb7e9ff011",
       "version_major": 2,
       "version_minor": 0
      },
      "text/plain": [
       "0it [00:00, ?it/s]"
      ]
     },
     "metadata": {},
     "output_type": "display_data"
    },
    {
     "name": "stdout",
     "output_type": "stream",
     "text": [
      "Resampling done in 0.02800607681274414\n",
      "Resampling done in 0.033007144927978516\n",
      "Resampling done in 0.03000664710998535\n",
      "Resampling done in 0.02700638771057129\n",
      "Resampling done in 0.027007102966308594\n"
     ]
    },
    {
     "data": {
      "text/html": [
       "<div>\n",
       "<style scoped>\n",
       "    .dataframe tbody tr th:only-of-type {\n",
       "        vertical-align: middle;\n",
       "    }\n",
       "\n",
       "    .dataframe tbody tr th {\n",
       "        vertical-align: top;\n",
       "    }\n",
       "\n",
       "    .dataframe thead th {\n",
       "        text-align: right;\n",
       "    }\n",
       "</style>\n",
       "<table border=\"1\" class=\"dataframe\">\n",
       "  <thead>\n",
       "    <tr style=\"text-align: right;\">\n",
       "      <th></th>\n",
       "      <th>Train Accuracy</th>\n",
       "      <th>Val Accuracy</th>\n",
       "      <th>Train Recall</th>\n",
       "      <th>Val Recall</th>\n",
       "      <th>Run Time</th>\n",
       "    </tr>\n",
       "  </thead>\n",
       "  <tbody>\n",
       "    <tr>\n",
       "      <th>GradientBoostingClassifier</th>\n",
       "      <td>99.81%</td>\n",
       "      <td>99.23%</td>\n",
       "      <td>99.98%</td>\n",
       "      <td>95.79%</td>\n",
       "      <td>6.06937</td>\n",
       "    </tr>\n",
       "    <tr>\n",
       "      <th>RandomForestClassifier</th>\n",
       "      <td>100.00%</td>\n",
       "      <td>99.31%</td>\n",
       "      <td>100.00%</td>\n",
       "      <td>91.93%</td>\n",
       "      <td>1.51434</td>\n",
       "    </tr>\n",
       "    <tr>\n",
       "      <th>LogisticRegressor</th>\n",
       "      <td>99.36%</td>\n",
       "      <td>98.53%</td>\n",
       "      <td>99.85%</td>\n",
       "      <td>93.33%</td>\n",
       "      <td>0.140031</td>\n",
       "    </tr>\n",
       "  </tbody>\n",
       "</table>\n",
       "</div>"
      ],
      "text/plain": [
       "                           Train Accuracy Val Accuracy Train Recall  \\\n",
       "GradientBoostingClassifier         99.81%       99.23%       99.98%   \n",
       "RandomForestClassifier            100.00%       99.31%      100.00%   \n",
       "LogisticRegressor                  99.36%       98.53%       99.85%   \n",
       "\n",
       "                           Val Recall  Run Time  \n",
       "GradientBoostingClassifier     95.79%   6.06937  \n",
       "RandomForestClassifier         91.93%   1.51434  \n",
       "LogisticRegressor              93.33%  0.140031  "
      ]
     },
     "metadata": {},
     "output_type": "display_data"
    },
    {
     "name": "stdout",
     "output_type": "stream",
     "text": [
      "--------------------------------------------------\u001b[1m\u001b[31mADASYN\u001b[0m---------------------------------------------------\n"
     ]
    },
    {
     "data": {
      "application/vnd.jupyter.widget-view+json": {
       "model_id": "20b7eb7aa82c4ae2b36934f90da10fdf",
       "version_major": 2,
       "version_minor": 0
      },
      "text/plain": [
       "  0%|          | 0/3 [00:00<?, ?it/s]"
      ]
     },
     "metadata": {},
     "output_type": "display_data"
    },
    {
     "data": {
      "application/vnd.jupyter.widget-view+json": {
       "model_id": "db0bcf50554d4550abf0b34df6d9a43f",
       "version_major": 2,
       "version_minor": 0
      },
      "text/plain": [
       "0it [00:00, ?it/s]"
      ]
     },
     "metadata": {},
     "output_type": "display_data"
    },
    {
     "name": "stdout",
     "output_type": "stream",
     "text": [
      "Resampling done in 0.040008544921875\n",
      "Resampling done in 0.04200935363769531\n",
      "Resampling done in 0.04200863838195801\n",
      "Resampling done in 0.03800797462463379\n",
      "Resampling done in 0.03800797462463379\n"
     ]
    },
    {
     "data": {
      "application/vnd.jupyter.widget-view+json": {
       "model_id": "76b63e743ad245348da9bc0dab138616",
       "version_major": 2,
       "version_minor": 0
      },
      "text/plain": [
       "0it [00:00, ?it/s]"
      ]
     },
     "metadata": {},
     "output_type": "display_data"
    },
    {
     "name": "stdout",
     "output_type": "stream",
     "text": [
      "Resampling done in 0.04201030731201172\n",
      "Resampling done in 0.03900885581970215\n",
      "Resampling done in 0.03900861740112305\n",
      "Resampling done in 0.0400090217590332\n",
      "Resampling done in 0.04000973701477051\n"
     ]
    },
    {
     "data": {
      "application/vnd.jupyter.widget-view+json": {
       "model_id": "3205896c9fd24cf6817aea0c83fd7896",
       "version_major": 2,
       "version_minor": 0
      },
      "text/plain": [
       "0it [00:00, ?it/s]"
      ]
     },
     "metadata": {},
     "output_type": "display_data"
    },
    {
     "name": "stdout",
     "output_type": "stream",
     "text": [
      "Resampling done in 0.0400090217590332\n",
      "Resampling done in 0.041010379791259766\n",
      "Resampling done in 0.04100918769836426\n",
      "Resampling done in 0.04100918769836426\n",
      "Resampling done in 0.03900790214538574\n"
     ]
    },
    {
     "data": {
      "text/html": [
       "<div>\n",
       "<style scoped>\n",
       "    .dataframe tbody tr th:only-of-type {\n",
       "        vertical-align: middle;\n",
       "    }\n",
       "\n",
       "    .dataframe tbody tr th {\n",
       "        vertical-align: top;\n",
       "    }\n",
       "\n",
       "    .dataframe thead th {\n",
       "        text-align: right;\n",
       "    }\n",
       "</style>\n",
       "<table border=\"1\" class=\"dataframe\">\n",
       "  <thead>\n",
       "    <tr style=\"text-align: right;\">\n",
       "      <th></th>\n",
       "      <th>Train Accuracy</th>\n",
       "      <th>Val Accuracy</th>\n",
       "      <th>Train Recall</th>\n",
       "      <th>Val Recall</th>\n",
       "      <th>Run Time</th>\n",
       "    </tr>\n",
       "  </thead>\n",
       "  <tbody>\n",
       "    <tr>\n",
       "      <th>GradientBoostingClassifier</th>\n",
       "      <td>99.82%</td>\n",
       "      <td>99.17%</td>\n",
       "      <td>99.99%</td>\n",
       "      <td>93.68%</td>\n",
       "      <td>5.67528</td>\n",
       "    </tr>\n",
       "    <tr>\n",
       "      <th>RandomForestClassifier</th>\n",
       "      <td>100.00%</td>\n",
       "      <td>99.36%</td>\n",
       "      <td>100.00%</td>\n",
       "      <td>92.28%</td>\n",
       "      <td>1.51434</td>\n",
       "    </tr>\n",
       "    <tr>\n",
       "      <th>LogisticRegressor</th>\n",
       "      <td>99.35%</td>\n",
       "      <td>98.48%</td>\n",
       "      <td>99.92%</td>\n",
       "      <td>94.39%</td>\n",
       "      <td>0.176041</td>\n",
       "    </tr>\n",
       "  </tbody>\n",
       "</table>\n",
       "</div>"
      ],
      "text/plain": [
       "                           Train Accuracy Val Accuracy Train Recall  \\\n",
       "GradientBoostingClassifier         99.82%       99.17%       99.99%   \n",
       "RandomForestClassifier            100.00%       99.36%      100.00%   \n",
       "LogisticRegressor                  99.35%       98.48%       99.92%   \n",
       "\n",
       "                           Val Recall  Run Time  \n",
       "GradientBoostingClassifier     93.68%   5.67528  \n",
       "RandomForestClassifier         92.28%   1.51434  \n",
       "LogisticRegressor              94.39%  0.176041  "
      ]
     },
     "metadata": {},
     "output_type": "display_data"
    }
   ],
   "source": [
    "res_list = [('SMOTE', SMOTE()),\n",
    "            ('ADASYN', ADASYN())]\n",
    "\n",
    "outputs = []\n",
    "for title, res in res_list:\n",
    "    print(colored(title, 'red', attrs=['bold']).center(120, \"-\"))\n",
    "    var = auto_ml(X_trainval, y_trainval, models_dict, scaler=MinMaxScaler(),\n",
    "                    cv=StratifiedKFold(n_splits=5), res_t=res)\n",
    "    outputs.append(var[0])\n",
    "    display(var[1])"
   ]
  },
  {
   "cell_type": "code",
   "execution_count": 9,
   "metadata": {
    "ExecuteTime": {
     "end_time": "2022-06-25T18:06:15.490376Z",
     "start_time": "2022-06-25T18:06:15.165986Z"
    }
   },
   "outputs": [
    {
     "data": {
      "image/png": "[encoded data removed]",
      "text/plain": [
       "<Figure size 2000x800 with 1 Axes>"
      ]
     },
     "metadata": {},
     "output_type": "display_data"
    }
   ],
   "source": [
    "ps_over = pd.DataFrame(index=models_dict.keys())\n",
    "ps_over['NoResampling Val Recall'] = auto_run[1]['Val Recall']\n",
    "ps_over['SMOTE Val Recall'] = outputs[0]['Val Recall']\n",
    "ps_over['ADASYN Val Recall'] = outputs[1]['Val Recall']\n",
    "fig, ax = plt.subplots(figsize=(20, 8))\n",
    "ps_over.plot.bar(ax=ax)\n",
    "ax.set_ylabel('Recall Score', fontsize=12)\n",
    "for spine in ['right', 'top']:\n",
    "        ax.spines[spine].set_visible(False)\n",
    "ax.legend(edgecolor='white')\n",
    "fig.suptitle(\"Resampling Techniques-Oversampling\", size=15, y=0.9, weight='bold')\n",
    "plt.xticks(rotation=45, fontsize=12)\n",
    "plt.show()"
   ]
  },
  {
   "cell_type": "markdown",
   "metadata": {},
   "source": [
    "#### Undersampling"
   ]
  },
  {
   "cell_type": "code",
   "execution_count": 10,
   "metadata": {
    "ExecuteTime": {
     "end_time": "2022-06-25T18:40:04.141335Z",
     "start_time": "2022-06-25T18:09:12.815457Z"
    }
   },
   "outputs": [
    {
     "name": "stdout",
     "output_type": "stream",
     "text": [
      "------------------------------------------------\u001b[1m\u001b[31mTomekLinks\u001b[0m-------------------------------------------------\n"
     ]
    },
    {
     "data": {
      "application/vnd.jupyter.widget-view+json": {
       "model_id": "82a05d3125e3445e93d8b10c5a1f829b",
       "version_major": 2,
       "version_minor": 0
      },
      "text/plain": [
       "  0%|          | 0/3 [00:00<?, ?it/s]"
      ]
     },
     "metadata": {},
     "output_type": "display_data"
    },
    {
     "data": {
      "application/vnd.jupyter.widget-view+json": {
       "model_id": "47b559aa20dc4dc884f01bc99e75c771",
       "version_major": 2,
       "version_minor": 0
      },
      "text/plain": [
       "0it [00:00, ?it/s]"
      ]
     },
     "metadata": {},
     "output_type": "display_data"
    },
    {
     "name": "stdout",
     "output_type": "stream",
     "text": [
      "Resampling done in 0.12802743911743164\n",
      "Resampling done in 0.1090242862701416\n",
      "Resampling done in 0.11002445220947266\n",
      "Resampling done in 0.10802292823791504\n",
      "Resampling done in 0.11102461814880371\n"
     ]
    },
    {
     "data": {
      "application/vnd.jupyter.widget-view+json": {
       "model_id": "9c859bf247554509a760bbfc4602675e",
       "version_major": 2,
       "version_minor": 0
      },
      "text/plain": [
       "0it [00:00, ?it/s]"
      ]
     },
     "metadata": {},
     "output_type": "display_data"
    },
    {
     "name": "stdout",
     "output_type": "stream",
     "text": [
      "Resampling done in 0.11002421379089355\n",
      "Resampling done in 0.1090242862701416\n",
      "Resampling done in 0.11702561378479004\n",
      "Resampling done in 0.12402796745300293\n",
      "Resampling done in 0.11002469062805176\n"
     ]
    },
    {
     "data": {
      "application/vnd.jupyter.widget-view+json": {
       "model_id": "0b0551ba030b4c2bb41facb5a884da1f",
       "version_major": 2,
       "version_minor": 0
      },
      "text/plain": [
       "0it [00:00, ?it/s]"
      ]
     },
     "metadata": {},
     "output_type": "display_data"
    },
    {
     "name": "stdout",
     "output_type": "stream",
     "text": [
      "Resampling done in 0.11102461814880371\n",
      "Resampling done in 0.11002445220947266\n",
      "Resampling done in 0.11202478408813477\n",
      "Resampling done in 0.11402559280395508\n",
      "Resampling done in 0.11202406883239746\n"
     ]
    },
    {
     "data": {
      "text/html": [
       "<div>\n",
       "<style scoped>\n",
       "    .dataframe tbody tr th:only-of-type {\n",
       "        vertical-align: middle;\n",
       "    }\n",
       "\n",
       "    .dataframe tbody tr th {\n",
       "        vertical-align: top;\n",
       "    }\n",
       "\n",
       "    .dataframe thead th {\n",
       "        text-align: right;\n",
       "    }\n",
       "</style>\n",
       "<table border=\"1\" class=\"dataframe\">\n",
       "  <thead>\n",
       "    <tr style=\"text-align: right;\">\n",
       "      <th></th>\n",
       "      <th>Train Accuracy</th>\n",
       "      <th>Val Accuracy</th>\n",
       "      <th>Train Recall</th>\n",
       "      <th>Val Recall</th>\n",
       "      <th>Run Time</th>\n",
       "    </tr>\n",
       "  </thead>\n",
       "  <tbody>\n",
       "    <tr>\n",
       "      <th>GradientBoostingClassifier</th>\n",
       "      <td>99.81%</td>\n",
       "      <td>99.28%</td>\n",
       "      <td>99.65%</td>\n",
       "      <td>92.98%</td>\n",
       "      <td>2.08147</td>\n",
       "    </tr>\n",
       "    <tr>\n",
       "      <th>RandomForestClassifier</th>\n",
       "      <td>100.00%</td>\n",
       "      <td>99.30%</td>\n",
       "      <td>100.00%</td>\n",
       "      <td>89.12%</td>\n",
       "      <td>0.693158</td>\n",
       "    </tr>\n",
       "    <tr>\n",
       "      <th>LogisticRegressor</th>\n",
       "      <td>98.71%</td>\n",
       "      <td>98.30%</td>\n",
       "      <td>68.60%</td>\n",
       "      <td>60.35%</td>\n",
       "      <td>0.0520124</td>\n",
       "    </tr>\n",
       "  </tbody>\n",
       "</table>\n",
       "</div>"
      ],
      "text/plain": [
       "                           Train Accuracy Val Accuracy Train Recall  \\\n",
       "GradientBoostingClassifier         99.81%       99.28%       99.65%   \n",
       "RandomForestClassifier            100.00%       99.30%      100.00%   \n",
       "LogisticRegressor                  98.71%       98.30%       68.60%   \n",
       "\n",
       "                           Val Recall   Run Time  \n",
       "GradientBoostingClassifier     92.98%    2.08147  \n",
       "RandomForestClassifier         89.12%   0.693158  \n",
       "LogisticRegressor              60.35%  0.0520124  "
      ]
     },
     "metadata": {},
     "output_type": "display_data"
    },
    {
     "name": "stdout",
     "output_type": "stream",
     "text": [
      "-------------------------------------------------\u001b[1m\u001b[31mNearMiss\u001b[0m--------------------------------------------------\n"
     ]
    },
    {
     "data": {
      "application/vnd.jupyter.widget-view+json": {
       "model_id": "8583a83352f544838d92c859ce4cb471",
       "version_major": 2,
       "version_minor": 0
      },
      "text/plain": [
       "  0%|          | 0/3 [00:00<?, ?it/s]"
      ]
     },
     "metadata": {},
     "output_type": "display_data"
    },
    {
     "data": {
      "application/vnd.jupyter.widget-view+json": {
       "model_id": "45f2d17c127441e0a1e50038e16ad68c",
       "version_major": 2,
       "version_minor": 0
      },
      "text/plain": [
       "0it [00:00, ?it/s]"
      ]
     },
     "metadata": {},
     "output_type": "display_data"
    },
    {
     "name": "stdout",
     "output_type": "stream",
     "text": [
      "Resampling done in 0.024005651473999023\n",
      "Resampling done in 0.022005081176757812\n",
      "Resampling done in 0.020003795623779297\n",
      "Resampling done in 0.023004531860351562\n",
      "Resampling done in 0.021004438400268555\n"
     ]
    },
    {
     "data": {
      "application/vnd.jupyter.widget-view+json": {
       "model_id": "3ddc615dcfa341d5b833932e197d0b9e",
       "version_major": 2,
       "version_minor": 0
      },
      "text/plain": [
       "0it [00:00, ?it/s]"
      ]
     },
     "metadata": {},
     "output_type": "display_data"
    },
    {
     "name": "stdout",
     "output_type": "stream",
     "text": [
      "Resampling done in 0.022004365921020508\n",
      "Resampling done in 0.02100372314453125\n",
      "Resampling done in 0.021004438400268555\n",
      "Resampling done in 0.021004199981689453\n",
      "Resampling done in 0.0200042724609375\n"
     ]
    },
    {
     "data": {
      "application/vnd.jupyter.widget-view+json": {
       "model_id": "fcaf2d8dfe754015a24b46a94d27ca4e",
       "version_major": 2,
       "version_minor": 0
      },
      "text/plain": [
       "0it [00:00, ?it/s]"
      ]
     },
     "metadata": {},
     "output_type": "display_data"
    },
    {
     "name": "stdout",
     "output_type": "stream",
     "text": [
      "Resampling done in 0.022003889083862305\n",
      "Resampling done in 0.023004770278930664\n",
      "Resampling done in 0.02100396156311035\n",
      "Resampling done in 0.02200460433959961\n",
      "Resampling done in 0.022005081176757812\n"
     ]
    },
    {
     "data": {
      "text/html": [
       "<div>\n",
       "<style scoped>\n",
       "    .dataframe tbody tr th:only-of-type {\n",
       "        vertical-align: middle;\n",
       "    }\n",
       "\n",
       "    .dataframe tbody tr th {\n",
       "        vertical-align: top;\n",
       "    }\n",
       "\n",
       "    .dataframe thead th {\n",
       "        text-align: right;\n",
       "    }\n",
       "</style>\n",
       "<table border=\"1\" class=\"dataframe\">\n",
       "  <thead>\n",
       "    <tr style=\"text-align: right;\">\n",
       "      <th></th>\n",
       "      <th>Train Accuracy</th>\n",
       "      <th>Val Accuracy</th>\n",
       "      <th>Train Recall</th>\n",
       "      <th>Val Recall</th>\n",
       "      <th>Run Time</th>\n",
       "    </tr>\n",
       "  </thead>\n",
       "  <tbody>\n",
       "    <tr>\n",
       "      <th>GradientBoostingClassifier</th>\n",
       "      <td>100.00%</td>\n",
       "      <td>97.90%</td>\n",
       "      <td>100.00%</td>\n",
       "      <td>98.25%</td>\n",
       "      <td>0.224051</td>\n",
       "    </tr>\n",
       "    <tr>\n",
       "      <th>RandomForestClassifier</th>\n",
       "      <td>100.00%</td>\n",
       "      <td>97.67%</td>\n",
       "      <td>100.00%</td>\n",
       "      <td>97.89%</td>\n",
       "      <td>0.200045</td>\n",
       "    </tr>\n",
       "    <tr>\n",
       "      <th>LogisticRegressor</th>\n",
       "      <td>97.81%</td>\n",
       "      <td>93.08%</td>\n",
       "      <td>96.75%</td>\n",
       "      <td>94.04%</td>\n",
       "      <td>0.0180042</td>\n",
       "    </tr>\n",
       "  </tbody>\n",
       "</table>\n",
       "</div>"
      ],
      "text/plain": [
       "                           Train Accuracy Val Accuracy Train Recall  \\\n",
       "GradientBoostingClassifier        100.00%       97.90%      100.00%   \n",
       "RandomForestClassifier            100.00%       97.67%      100.00%   \n",
       "LogisticRegressor                  97.81%       93.08%       96.75%   \n",
       "\n",
       "                           Val Recall   Run Time  \n",
       "GradientBoostingClassifier     98.25%   0.224051  \n",
       "RandomForestClassifier         97.89%   0.200045  \n",
       "LogisticRegressor              94.04%  0.0180042  "
      ]
     },
     "metadata": {},
     "output_type": "display_data"
    }
   ],
   "source": [
    "res_list = [('TomekLinks', TomekLinks()),\n",
    "            ('NearMiss', NearMiss())]\n",
    "\n",
    "outputs_u = []\n",
    "for title, res in res_list:\n",
    "    print(colored(title, 'red', attrs=['bold']).center(120, \"-\"))\n",
    "    var = auto_ml(X_trainval, y_trainval, models_dict, scaler=MinMaxScaler(),\n",
    "                  cv=StratifiedKFold(n_splits=5), res_t=res)\n",
    "    outputs_u.append(var[0])\n",
    "    display(var[1])"
   ]
  },
  {
   "cell_type": "code",
   "execution_count": 11,
   "metadata": {
    "ExecuteTime": {
     "end_time": "2022-06-25T18:40:06.676847Z",
     "start_time": "2022-06-25T18:40:04.293020Z"
    }
   },
   "outputs": [
    {
     "data": {
      "image/png": "[encoded data removed]",
      "text/plain": [
       "<Figure size 2000x800 with 1 Axes>"
      ]
     },
     "metadata": {},
     "output_type": "display_data"
    }
   ],
   "source": [
    "ps_under = pd.DataFrame(index=models_dict.keys())\n",
    "ps_under['NoResampling Val Recall'] = auto_run[1]['Val Recall']\n",
    "ps_under['TomekLinks Val Recall'] = outputs_u[0]['Val Recall']\n",
    "ps_under['NearMiss Val Recall'] = outputs_u[1]['Val Recall']\n",
    "\n",
    "fig, ax = plt.subplots(figsize=(20, 8))\n",
    "ps_under.plot.bar(ax=ax)\n",
    "ax.set_ylabel('Recall Score', fontsize=12)\n",
    "for spine in ['right', 'top']:\n",
    "        ax.spines[spine].set_visible(False)\n",
    "ax.legend(edgecolor='white')\n",
    "fig.suptitle(\"Resampling Techniques-Undersampling\", size=15, y=0.9, weight='bold')\n",
    "plt.xticks(rotation=45, fontsize=12)\n",
    "plt.show()"
   ]
  },
  {
   "cell_type": "markdown",
   "metadata": {},
   "source": [
    "<div><span style=\"background-color: #ff0257; padding-top: 100px; padding-right: 20px; padding-bottom: 50px; padding-left: 20px; color: #FFFAF0; font-size: 18px; font-weight: bold\">Grid-Search and Randomized Search Cross Validation </span></div>"
   ]
  },
  {
   "cell_type": "markdown",
   "metadata": {},
   "source": [
    "[Grid Search](https://scikit-learn.org/stable/modules/generated/sklearn.model_selection.GridSearchCV.html) and [Randomized Search Cross Validation](https://scikit-learn.org/stable/modules/generated/sklearn.model_selection.RandomizedSearchCV.html) are commonly used to hypertune models across multiple parameters"
   ]
  },
  {
   "cell_type": "code",
   "execution_count": 12,
   "metadata": {
    "ExecuteTime": {
     "end_time": "2022-06-25T18:44:46.659479Z",
     "start_time": "2022-06-25T18:44:46.643942Z"
    }
   },
   "outputs": [],
   "source": [
    "def train_rf(X, y, metric, res_t=None, hypertune=False, resample=False):\n",
    "    \"\"\"Hypertune Gradient Boosting Classifier and apply NearMiss()\"\"\"\n",
    "    params = {'n_estimators': [50, 100, 150, 200],\n",
    "              'max_features': ['auto', 'sqrt', 'log2'],\n",
    "              'max_depth': list(range(3, 20))\n",
    "              }\n",
    "    new_params = {'gradientboostingclassifier__' +\n",
    "                  key: params[key] for key in params}\n",
    "\n",
    "    skf = StratifiedKFold(n_splits=5)\n",
    "    if resample is True:\n",
    "        imba_pipeline = make_pipeline(MinMaxScaler(),\n",
    "                                      res_t,\n",
    "                                      GradientBoostingClassifier())\n",
    "    else:\n",
    "        imba_pipeline = make_pipeline(MinMaxScaler(),\n",
    "                                      GradientBoostingClassifier())\n",
    "\n",
    "    if hypertune is True:\n",
    "        clf = GridSearchCV(imba_pipeline, param_grid=new_params,\n",
    "                           cv=skf, scoring=metric, return_train_score=True,\n",
    "                          verbose=10, n_jobs=-1)\n",
    "        start_time = time.time()\n",
    "        clf.fit(X, y)\n",
    "        run_time = (time.time() - start_time)\n",
    "        model = clf.best_estimator_.fit(X, y)\n",
    "        return ['GBC', np.mean(clf.cv_results_['mean_train_score']),\n",
    "                clf.best_score_, 'Best parameters = {0}'.format(\n",
    "                    clf.best_params_),\n",
    "                run_time, model]\n",
    "    else:\n",
    "        clf = imba_pipeline\n",
    "        start_time = time.time()\n",
    "        clf.fit(X, y)\n",
    "        run_time = (time.time() - start_time)\n",
    "        cv_scores = cross_validate(estimator=clf, X=X, y=y,\n",
    "                                   scoring=metric, cv=skf, n_jobs=-1,\n",
    "                                   return_train_score=True)\n",
    "\n",
    "        return ['GBC', np.mean(cv_scores['train_score']),\n",
    "                np.mean(cv_scores['test_score']), run_time, clf]"
   ]
  },
  {
   "cell_type": "code",
   "execution_count": 13,
   "metadata": {
    "scrolled": true,
    "tags": []
   },
   "outputs": [
    {
     "name": "stdout",
     "output_type": "stream",
     "text": [
      "Fitting 5 folds for each of 204 candidates, totalling 1020 fits\n",
      "Fitting 5 folds for each of 204 candidates, totalling 1020 fits\n"
     ]
    }
   ],
   "source": [
    "start_time = time.time()\n",
    "rf_tmk_rec = train_rf(X_trainval, y_trainval, 'recall', NearMiss(),\n",
    "                       hypertune=True, resample=True)\n",
    "start_time = time.time()\n",
    "rf_tmk_acc = train_rf(X_trainval, y_trainval, 'accuracy', NearMiss(),\n",
    "                      hypertune=True, resample=True)"
   ]
  },
  {
   "cell_type": "code",
   "execution_count": 14,
   "metadata": {},
   "outputs": [
    {
     "data": {
      "text/html": [
       "<style  type=\"text/css\" >\n",
       "</style><table id=\"T_11b493e5_9dfc_11ed_a6eb_ccd9ac3d4c52\" ><thead>    <tr>        <th class=\"col_heading level0 col0\" ></th>        <th class=\"col_heading level0 col1\" >Train Accuracy</th>        <th class=\"col_heading level0 col2\" >Val Accuracy</th>        <th class=\"col_heading level0 col3\" >Train Recall</th>        <th class=\"col_heading level0 col4\" >Val Recall</th>    </tr></thead><tbody>\n",
       "                <tr>\n",
       "                                <td id=\"T_11b493e5_9dfc_11ed_a6eb_ccd9ac3d4c52row0_col0\" class=\"data row0 col0\" >GBC</td>\n",
       "                        <td id=\"T_11b493e5_9dfc_11ed_a6eb_ccd9ac3d4c52row0_col1\" class=\"data row0 col1\" >97.28%</td>\n",
       "                        <td id=\"T_11b493e5_9dfc_11ed_a6eb_ccd9ac3d4c52row0_col2\" class=\"data row0 col2\" >97.99%</td>\n",
       "                        <td id=\"T_11b493e5_9dfc_11ed_a6eb_ccd9ac3d4c52row0_col3\" class=\"data row0 col3\" >99.95%</td>\n",
       "                        <td id=\"T_11b493e5_9dfc_11ed_a6eb_ccd9ac3d4c52row0_col4\" class=\"data row0 col4\" >98.60%</td>\n",
       "            </tr>\n",
       "    </tbody></table>"
      ],
      "text/plain": [
       "<pandas.io.formats.style.Styler at 0x1da3000c4f0>"
      ]
     },
     "execution_count": 14,
     "metadata": {},
     "output_type": "execute_result"
    }
   ],
   "source": [
    "cols = ['', 'Train Accuracy', 'Val Accuracy',\n",
    "        'Train Recall', 'Val Recall']\n",
    "hyper = pd.DataFrame(columns=cols)\n",
    "hyper.loc[0] = [rf_tmk_rec[0],\n",
    "                np.round(rf_tmk_acc[1]*100, 6),\n",
    "                np.round(rf_tmk_acc[2]*100, 6),\n",
    "                np.round(rf_tmk_rec[1]*100, 6),\n",
    "                np.round(rf_tmk_rec[2]*100, 6)]\n",
    "hyper2 = pd.DataFrame(columns=cols)\n",
    "hyper2.loc[0] = [rf_tmk_rec[0],\n",
    "                 '{:.2f}%'.format(np.round(rf_tmk_acc[1]*100, 2)),\n",
    "                 '{:.2f}%'.format(np.round(rf_tmk_acc[2]*100, 2)),\n",
    "                 '{:.2f}%'.format(np.round(rf_tmk_rec[1]*100, 2)),\n",
    "                 '{:.2f}%'.format(np.round(rf_tmk_rec[2]*100, 2))]\n",
    "hyper2.style.hide_index()"
   ]
  },
  {
   "cell_type": "code",
   "execution_count": 15,
   "metadata": {},
   "outputs": [
    {
     "data": {
      "text/plain": [
       "['GBC',\n",
       " 0.9995055039559683,\n",
       " 0.9859649122807017,\n",
       " \"Best parameters = {'gradientboostingclassifier__max_depth': 3, 'gradientboostingclassifier__max_features': 'sqrt', 'gradientboostingclassifier__n_estimators': 100}\",\n",
       " 72.6562979221344,\n",
       " Pipeline(steps=[('minmaxscaler', MinMaxScaler()), ('nearmiss', NearMiss()),\n",
       "                 ('gradientboostingclassifier',\n",
       "                  GradientBoostingClassifier(max_features='sqrt'))])]"
      ]
     },
     "execution_count": 15,
     "metadata": {},
     "output_type": "execute_result"
    }
   ],
   "source": [
    "rf_tmk_rec"
   ]
  },
  {
   "cell_type": "code",
   "execution_count": 16,
   "metadata": {},
   "outputs": [],
   "source": [
    "# re-fitting for the holdout\n",
    "rh = rf_tmk_rec[-1]\n",
    "rh.fit(X_trainval, y_trainval)\n",
    "y_preds = rh.predict(X_holdout)\n",
    "rh_holdout_score = recall_score(y_holdout, y_preds)"
   ]
  },
  {
   "cell_type": "code",
   "execution_count": 17,
   "metadata": {},
   "outputs": [
    {
     "data": {
      "text/plain": [
       "0.9894736842105263"
      ]
     },
     "execution_count": 17,
     "metadata": {},
     "output_type": "execute_result"
    }
   ],
   "source": [
    "rh_holdout_score"
   ]
  },
  {
   "cell_type": "markdown",
   "metadata": {},
   "source": [
    "#### Base-case"
   ]
  },
  {
   "cell_type": "code",
   "execution_count": 18,
   "metadata": {
    "ExecuteTime": {
     "end_time": "2022-06-25T18:48:02.907470Z",
     "start_time": "2022-06-25T18:44:52.169864Z"
    }
   },
   "outputs": [],
   "source": [
    "# cross-validation\n",
    "base_var = train_rf(X_trainval, y_trainval, 'recall', hypertune=False, resample=False)\n",
    "\n",
    "# re-fitting for the holdout\n",
    "base_model = base_var[-1]\n",
    "base_model.fit(X_trainval, y_trainval)\n",
    "y_preds = base_model.predict(X_holdout)\n",
    "holdout_score = recall_score(y_holdout, y_preds)"
   ]
  },
  {
   "cell_type": "code",
   "execution_count": 19,
   "metadata": {
    "ExecuteTime": {
     "end_time": "2022-06-25T18:48:26.485006Z",
     "start_time": "2022-06-25T18:48:26.111606Z"
    }
   },
   "outputs": [
    {
     "data": {
      "text/plain": [
       "0.9473684210526315"
      ]
     },
     "execution_count": 19,
     "metadata": {},
     "output_type": "execute_result"
    }
   ],
   "source": [
    "holdout_score"
   ]
  },
  {
   "cell_type": "code",
   "execution_count": 20,
   "metadata": {},
   "outputs": [
    {
     "data": {
      "text/html": [
       "<style  type=\"text/css\" >\n",
       "</style><table id=\"T_323492b8_9dfc_11ed_b359_ccd9ac3d4c52\" ><thead>    <tr>        <th class=\"col_heading level0 col0\" >Method</th>        <th class=\"col_heading level0 col1\" >Train Recall</th>        <th class=\"col_heading level0 col2\" >Val Recall</th>        <th class=\"col_heading level0 col3\" >Holdout Recall</th>    </tr></thead><tbody>\n",
       "                <tr>\n",
       "                                <td id=\"T_323492b8_9dfc_11ed_b359_ccd9ac3d4c52row0_col0\" class=\"data row0 col0\" >No Resampling</td>\n",
       "                        <td id=\"T_323492b8_9dfc_11ed_b359_ccd9ac3d4c52row0_col1\" class=\"data row0 col1\" >99.65%</td>\n",
       "                        <td id=\"T_323492b8_9dfc_11ed_b359_ccd9ac3d4c52row0_col2\" class=\"data row0 col2\" >93.33%</td>\n",
       "                        <td id=\"T_323492b8_9dfc_11ed_b359_ccd9ac3d4c52row0_col3\" class=\"data row0 col3\" >94.74%</td>\n",
       "            </tr>\n",
       "            <tr>\n",
       "                                <td id=\"T_323492b8_9dfc_11ed_b359_ccd9ac3d4c52row1_col0\" class=\"data row1 col0\" >Resampling x Hypertune</td>\n",
       "                        <td id=\"T_323492b8_9dfc_11ed_b359_ccd9ac3d4c52row1_col1\" class=\"data row1 col1\" >99.95%</td>\n",
       "                        <td id=\"T_323492b8_9dfc_11ed_b359_ccd9ac3d4c52row1_col2\" class=\"data row1 col2\" >98.60%</td>\n",
       "                        <td id=\"T_323492b8_9dfc_11ed_b359_ccd9ac3d4c52row1_col3\" class=\"data row1 col3\" >98.95%</td>\n",
       "            </tr>\n",
       "    </tbody></table>"
      ],
      "text/plain": [
       "<pandas.io.formats.style.Styler at 0x1da301b93a0>"
      ]
     },
     "execution_count": 20,
     "metadata": {},
     "output_type": "execute_result"
    }
   ],
   "source": [
    "cols = ['Method', 'Train Recall', 'Val Recall', 'Holdout Recall']\n",
    "summary = pd.DataFrame(columns=cols)\n",
    "summary.loc[0] = ['No Resampling',\n",
    "                 '{:.2f}%'.format(np.round(base_var[1]*100, 2)),\n",
    "                 '{:.2f}%'.format(np.round(base_var[2]*100, 2)),\n",
    "                 '{:.2f}%'.format(np.round(holdout_score*100, 2))]\n",
    "summary.loc[3] = ['Resampling x Hypertune',\n",
    "                 '{:.2f}%'.format(np.round(rf_tmk_rec[1]*100, 2)),\n",
    "                 '{:.2f}%'.format(np.round(rf_tmk_rec[2]*100, 2)),\n",
    "                 '{:.2f}%'.format(np.round(rh_holdout_score*100, 2))]\n",
    "summary.style.hide_index()"
   ]
  },
  {
   "cell_type": "code",
   "execution_count": 21,
   "metadata": {},
   "outputs": [],
   "source": [
    "import pickle\n",
    "output = open('pickles/gbc_hypertuned.pkl', 'wb')\n",
    "pickle.dump(rh, output)\n",
    "output.close()\n"
   ]
  },
  {
   "cell_type": "markdown",
   "metadata": {},
   "source": [
    "# Interpretability"
   ]
  },
  {
   "cell_type": "code",
   "execution_count": 22,
   "metadata": {},
   "outputs": [],
   "source": [
    "#model = rh\n",
    "model = rh.fit(X_trainval, y_trainval)"
   ]
  },
  {
   "cell_type": "code",
   "execution_count": 23,
   "metadata": {},
   "outputs": [
    {
     "data": {
      "text/plain": [
       "7819"
      ]
     },
     "metadata": {},
     "output_type": "display_data"
    },
    {
     "data": {
      "text/plain": [
       "array([1, 0, 0, ..., 1, 0, 0], dtype=int64)"
      ]
     },
     "execution_count": 23,
     "metadata": {},
     "output_type": "execute_result"
    }
   ],
   "source": [
    "display(len(X_trainval))\n",
    "model.predict(X_trainval)"
   ]
  },
  {
   "cell_type": "code",
   "execution_count": 24,
   "metadata": {},
   "outputs": [
    {
     "name": "stdout",
     "output_type": "stream",
     "text": [
      "Holdout set score: 0.99\n"
     ]
    }
   ],
   "source": [
    "y_preds = model.predict(X_holdout)\n",
    "holdout_score = recall_score(y_holdout, y_preds)\n",
    "print(f\"Holdout set score: {holdout_score:.2f}\")\n"
   ]
  },
  {
   "cell_type": "code",
   "execution_count": 41,
   "metadata": {},
   "outputs": [],
   "source": [
    "#explainer = shap.TreeExplainer(model, feature_names=X_holdout.columns)\n",
    "#shap_values = explainer.shap_values(X_holdout)"
   ]
  },
  {
   "cell_type": "code",
   "execution_count": 25,
   "metadata": {},
   "outputs": [
    {
     "ename": "NameError",
     "evalue": "name 'shap' is not defined",
     "output_type": "error",
     "traceback": [
      "\u001b[1;31m---------------------------------------------------------------------------\u001b[0m",
      "\u001b[1;31mNameError\u001b[0m                                 Traceback (most recent call last)",
      "Cell \u001b[1;32mIn[25], line 4\u001b[0m\n\u001b[0;32m      1\u001b[0m \u001b[39m#KernelExplainer strongly suggests other measures to minimize computation. One of these is using `K-means` \u001b[39;00m\n\u001b[0;32m      2\u001b[0m \u001b[39m# to summarize the background training data instead of using it whole. Another method could be using a sample\u001b[39;00m\n\u001b[0;32m      3\u001b[0m \u001b[39m# of the training data. In this case, we opted for k-means clustering into 10 centroids.\u001b[39;00m\n\u001b[1;32m----> 4\u001b[0m x_train_summary \u001b[39m=\u001b[39m shap\u001b[39m.\u001b[39mkmeans(X_trainval, \u001b[39m10\u001b[39m)\n\u001b[0;32m      5\u001b[0m \u001b[39m#x_train_summary = shap.kmeans(X_holdout, 10)\u001b[39;00m\n\u001b[0;32m      6\u001b[0m \n\u001b[0;32m      7\u001b[0m \n\u001b[0;32m      8\u001b[0m \u001b[39m#KernelExplainer takes a predict function for a model (`fitted_svm_mdl.predict_proba`) and\u001b[39;00m\n\u001b[0;32m      9\u001b[0m \u001b[39m# some background training data (`X_train_summary`)\u001b[39;00m\n\u001b[0;32m     10\u001b[0m explainer \u001b[39m=\u001b[39m shap\u001b[39m.\u001b[39mKernelExplainer(model\u001b[39m.\u001b[39mpredict_proba, x_train_summary)\n",
      "\u001b[1;31mNameError\u001b[0m: name 'shap' is not defined"
     ]
    }
   ],
   "source": [
    "#KernelExplainer strongly suggests other measures to minimize computation. One of these is using `K-means` \n",
    "# to summarize the background training data instead of using it whole. Another method could be using a sample\n",
    "# of the training data. In this case, we opted for k-means clustering into 10 centroids.\n",
    "x_train_summary = shap.kmeans(X_trainval, 10)\n",
    "#x_train_summary = shap.kmeans(X_holdout, 10)\n",
    "\n",
    "\n",
    "#KernelExplainer takes a predict function for a model (`fitted_svm_mdl.predict_proba`) and\n",
    "# some background training data (`X_train_summary`)\n",
    "explainer = shap.KernelExplainer(model.predict_proba, x_train_summary)"
   ]
  },
  {
   "cell_type": "code",
   "execution_count": 61,
   "metadata": {},
   "outputs": [
    {
     "data": {
      "application/vnd.jupyter.widget-view+json": {
       "model_id": "15796c3297b74dc7928f5788f733db2c",
       "version_major": 2,
       "version_minor": 0
      },
      "text/plain": [
       "  0%|          | 0/2607 [00:00<?, ?it/s]"
      ]
     },
     "metadata": {},
     "output_type": "display_data"
    },
    {
     "name": "stdout",
     "output_type": "stream",
     "text": [
      "time: 3min 49s (started: 2022-10-27 19:03:31 +08:00)\n"
     ]
    }
   ],
   "source": [
    "#Once we have initialized our explainer, we can use samples of our test dataset (`nsamples=200`) to come up \n",
    "# with the Shapely Values. It uses L1 regularization (`l1_reg`) during the fitting process.  What we are telling \n",
    "# it here is to regularize to the point it only has 20 relevant features.\n",
    "\n",
    "shap_values_test = explainer.shap_values(X_holdout,\\\n",
    "                                nsamples=200, l1_reg=\"num_features(20)\")\n",
    "\n"
   ]
  },
  {
   "cell_type": "code",
   "execution_count": 67,
   "metadata": {},
   "outputs": [
    {
     "name": "stdout",
     "output_type": "stream",
     "text": [
      "time: 218 ms (started: 2022-10-27 19:12:26 +08:00)\n"
     ]
    }
   ],
   "source": [
    "import pickle\n",
    "\n",
    "#change explainer to rh/shap values\n",
    "output = open('explainer.pkl', 'wb')\n",
    "pickle.dump(rh, output)\n",
    "output.close()\n",
    "\n",
    "\n",
    "output = open('gbc_hypertuned.pkl', 'wb')\n",
    "pickle.dump(rh, output)\n",
    "output.close()\n",
    "\n",
    "\n",
    "output = open('shap_values.pkl', 'wb')\n",
    "pickle.dump(shap_values, output)\n",
    "output.close()"
   ]
  }
 ],
 "metadata": {
  "kernelspec": {
   "display_name": "fraud_venv2",
   "language": "python",
   "name": "python3"
  },
  "language_info": {
   "codemirror_mode": {
    "name": "ipython",
    "version": 3
   },
   "file_extension": ".py",
   "mimetype": "text/x-python",
   "name": "python",
   "nbconvert_exporter": "python",
   "pygments_lexer": "ipython3",
   "version": "3.9.16"
  },
  "toc": {
   "base_numbering": 1,
   "nav_menu": {},
   "number_sections": true,
   "sideBar": true,
   "skip_h1_title": false,
   "title_cell": "Table of Contents",
   "title_sidebar": "Contents",
   "toc_cell": false,
   "toc_position": {},
   "toc_section_display": true,
   "toc_window_display": false
  },
  "vscode": {
   "interpreter": {
    "hash": "c0a5753ec2aa02a13847858bacb6e982115754ca9cffa607e3fd6d1b4ae36756"
   }
  }
 },
 "nbformat": 4,
 "nbformat_minor": 4
}
