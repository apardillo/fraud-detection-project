{
 "cells": [
  {
   "attachments": {},
   "cell_type": "markdown",
   "metadata": {},
   "source": [
    "<div><span style=\"background-color: #9e4244; padding-top: 80px; padding-right: 20px; padding-bottom: 50px; padding-left: 20px; color: white; font-size: 22px; font-weight: bold\">Machine Learning Pipeline</span></div>"
   ]
  },
  {
   "cell_type": "code",
   "execution_count": 11,
   "metadata": {
    "ExecuteTime": {
     "end_time": "2022-06-25T17:06:40.840624Z",
     "start_time": "2022-06-25T17:06:26.941745Z"
    }
   },
   "outputs": [],
   "source": [
    "# General Libraries\n",
    "import re\n",
    "import time\n",
    "import warnings\n",
    "import numpy as np\n",
    "import pandas as pd\n",
    "from tqdm.notebook import tqdm\n",
    "from collections import Counter\n",
    "warnings.filterwarnings(\"ignore\")\n",
    "\n",
    "# Visualizations\n",
    "import seaborn as sns\n",
    "from termcolor import colored\n",
    "import matplotlib.pyplot as plt\n",
    "import plotly.graph_objects as go\n",
    "\n",
    "# Sklearn\n",
    "from sklearn.preprocessing import MinMaxScaler\n",
    "from sklearn.model_selection import (train_test_split, GridSearchCV,\n",
    "                                     StratifiedKFold)\n",
    "from sklearn.neighbors import KNeighborsClassifier\n",
    "from sklearn.svm import SVC\n",
    "from sklearn.linear_model import LogisticRegression\n",
    "from sklearn.naive_bayes import GaussianNB\n",
    "from sklearn.tree import DecisionTreeClassifier\n",
    "from sklearn.ensemble import (RandomForestClassifier,  \n",
    "                              GradientBoostingClassifier)\n",
    "from sklearn.model_selection import cross_validate\n",
    "from sklearn.metrics import (ConfusionMatrixDisplay, precision_score, recall_score)\n",
    "\n",
    "# Imblearn\n",
    "from imblearn.pipeline import Pipeline, make_pipeline\n",
    "from imblearn.over_sampling import (SMOTE, ADASYN, BorderlineSMOTE, SVMSMOTE)\n",
    "from imblearn.under_sampling import (TomekLinks, NearMiss, AllKNN,\n",
    "                                     EditedNearestNeighbours, \n",
    "                                     RepeatedEditedNearestNeighbours) \n",
    "from imblearn.combine import SMOTETomek, SMOTEENN\n",
    "\n",
    "\n",
    "#from getml.predictors import XGBoostClassifier\n",
    "#import xgboost as xgb\n",
    "# SHAP\n",
    "# interpretability\n",
    "\n",
    "\n",
    "import shap\n",
    "#shap.initjs()\n",
    "\n",
    "\n"
   ]
  },
  {
   "cell_type": "code",
   "execution_count": 2,
   "metadata": {
    "ExecuteTime": {
     "end_time": "2022-06-25T17:06:47.142146Z",
     "start_time": "2022-06-25T17:06:40.843628Z"
    }
   },
   "outputs": [
    {
     "data": {
      "text/plain": [
       "(10426, 222)"
      ]
     },
     "execution_count": 2,
     "metadata": {},
     "output_type": "execute_result"
    }
   ],
   "source": [
    "#df = pd.read_csv('Empty Notebooks/cc_df.csv', nrows=100000)\n",
    "\n",
    "df = pd.read_csv('data/g4_filtered.csv', nrows=100000)\n",
    "\n",
    "df.shape"
   ]
  },
  {
   "cell_type": "code",
   "execution_count": 3,
   "metadata": {
    "ExecuteTime": {
     "end_time": "2022-06-25T17:06:59.724833Z",
     "start_time": "2022-06-25T17:06:59.489891Z"
    }
   },
   "outputs": [
    {
     "name": "stdout",
     "output_type": "stream",
     "text": [
      "Would Recommend:       0\n",
      "0  10046\n",
      "1    380\n",
      "Proportion Chance Criterion: 92.98%\n",
      "1.25 * Proportion Chance Criterion: 116.22%\n"
     ]
    },
    {
     "data": {
      "image/png": "[encoded data removed]",
      "text/plain": [
       "<Figure size 640x480 with 1 Axes>"
      ]
     },
     "metadata": {},
     "output_type": "display_data"
    }
   ],
   "source": [
    "state_counts = Counter(df['is_fraud'])\n",
    "df_state = pd.DataFrame.from_dict(state_counts, orient='index')\n",
    "df_state.plot(kind='bar', color='pink')\n",
    "\n",
    "num=(df_state[0]/df_state[0].sum())**2\n",
    "\n",
    "print(\"Would Recommend:{}\".format(df_state))\n",
    "\n",
    "print(\"Proportion Chance Criterion: {:0.2f}%\".format(100*num.sum()))\n",
    "print(\"1.25 * Proportion Chance Criterion: {:0.2f}%\".format(1.25*100*num.sum()))"
   ]
  },
  {
   "cell_type": "code",
   "execution_count": 4,
   "metadata": {
    "ExecuteTime": {
     "end_time": "2022-06-25T17:07:01.323651Z",
     "start_time": "2022-06-25T17:07:00.408410Z"
    }
   },
   "outputs": [],
   "source": [
    "X = df.drop(['is_fraud'], axis=1)\n",
    "y = df['is_fraud']\n",
    "(X_trainval, X_holdout, y_trainval, y_holdout) = train_test_split(X, y, \n",
    "                                                                  random_state=11, test_size=0.25,\n",
    "                                                                  stratify=y)"
   ]
  },
  {
   "cell_type": "markdown",
   "metadata": {},
   "source": [
    "<div><span style=\"background-color: #ff0257; padding-top: 100px; padding-right: 20px; padding-bottom: 50px; padding-left: 20px; color: #FFFAF0; font-size: 18px; font-weight: bold\">Auto-ML </span></div>"
   ]
  },
  {
   "cell_type": "code",
   "execution_count": 5,
   "metadata": {
    "ExecuteTime": {
     "end_time": "2022-06-25T17:07:04.220771Z",
     "start_time": "2022-06-25T17:07:04.197393Z"
    }
   },
   "outputs": [],
   "source": [
    "def auto_ml(X, y, models_dict, scaler=None, cv=None, res_t=None):\n",
    "    \"\"\"Apply resampling for imbalanced data\"\"\"\n",
    "    results = {}\n",
    "    results2 = {}\n",
    "\n",
    "    # log start time\n",
    "    total_start = time.time()\n",
    "\n",
    "    #for model_name, model in tqdm(models_dict.items()):\n",
    "    for model_name, model in models_dict.items():\n",
    "        \n",
    "        ################# this portion can be edited ###############\n",
    "        train_scores = []\n",
    "        val_scores = []\n",
    "\n",
    "        train_recall = []\n",
    "        val_recall = []\n",
    "\n",
    "        ###########################################################\n",
    "\n",
    "        for train_index, val_index in tqdm(cv.split(X, y)):\n",
    "\n",
    "            X_train, X_val = X.iloc[train_index], X.iloc[val_index]\n",
    "            y_train, y_val = y.iloc[train_index], y.iloc[val_index]\n",
    "\n",
    "            # Apply scaling\n",
    "            if scaler is not None:\n",
    "                X_train = scaler.fit_transform(X_train)\n",
    "                X_val = scaler.transform(X_val)\n",
    "            else:\n",
    "                pass\n",
    "\n",
    "            # Apply resampling\n",
    "            if res_t is not None:\n",
    "                s = time.time()\n",
    "                X_train, y_train = res_t.fit_resample(X_train, y_train)\n",
    "                print(f'Resampling done in {time.time() - s}')\n",
    "            else:\n",
    "                pass\n",
    "\n",
    "            start_time = time.time()\n",
    "\n",
    "            # fit\n",
    "            model.fit(X_train, y_train)\n",
    "\n",
    "            # predict\n",
    "            train_preds = model.predict(X_train)\n",
    "            val_preds = model.predict(X_val)\n",
    "            \n",
    "            ################# this portion can be edited ###############\n",
    "\n",
    "            # classification accuracy\n",
    "            train_scores.append(model.score(X_train, y_train))\n",
    "            val_scores.append(model.score(X_val, y_val))\n",
    "\n",
    "            # recall\n",
    "            train_recall.append(recall_score(y_train, train_preds))\n",
    "            val_recall.append(recall_score(y_val, val_preds))\n",
    "\n",
    "            end_time = time.time()\n",
    "\n",
    "            results[model_name] = {\n",
    "                'Train Accuracy': np.round(np.mean(train_scores) * 100, 2),\n",
    "                'Val Accuracy': np.round(np.mean(val_scores) * 100, 2),\n",
    "                'Train Recall': np.round(np.mean(train_recall) * 100, 2),\n",
    "                'Val Recall': np.round(np.mean(val_recall) * 100, 2),\n",
    "                'Run Time': end_time - start_time\n",
    "            }\n",
    "\n",
    "            results2[model_name] = {\n",
    "                'Train Accuracy': '{:.2f}%'.format(np.round(np.mean(train_scores)*100, 2)),\n",
    "                'Val Accuracy': '{:.2f}%'.format(np.round(np.mean(val_scores)*100, 2)),\n",
    "                'Train Recall': '{:.2f}%'.format(np.round(np.mean(train_recall)*100, 2)),\n",
    "                'Val Recall': '{:.2f}%'.format(np.round(np.mean(val_recall)*100, 2)),\n",
    "                'Run Time': end_time - start_time\n",
    "            }\n",
    "            \n",
    "            ###########################################################\n",
    "\n",
    "    results = pd.DataFrame(results).T\n",
    "    results2 = pd.DataFrame(results2).T\n",
    "    return [results, results2]"
   ]
  },
  {
   "cell_type": "markdown",
   "metadata": {},
   "source": [
    "### Baseline"
   ]
  },
  {
   "cell_type": "code",
   "execution_count": 6,
   "metadata": {
    "ExecuteTime": {
     "end_time": "2022-06-25T18:00:46.201827Z",
     "start_time": "2022-06-25T18:00:46.191744Z"
    }
   },
   "outputs": [],
   "source": [
    "#models_dict = {'GaussianNB': GaussianNB(),\n",
    "              #'RandomForestClassifier': RandomForestClassifier(random_state=143)}\n",
    "\n",
    "    \n",
    "    \n",
    "# models_dict = {\n",
    "#     'KNeighborsClassifier': KNeighborsClassifier(),\n",
    "#     'LogisticRegressor': LogisticRegression(),\n",
    "#     'GaussianNB': GaussianNB(),\n",
    "#     'RandomForestClassifier': RandomForestClassifier(random_state=143),\n",
    "#     'DecisionTreeClassifier': DecisionTreeClassifier(random_state=143),\n",
    "#     'GradientBoostingClassifier': GradientBoostingClassifier(random_state=143)   \n",
    "# }\n",
    "\n",
    "\n",
    "models_dict = {\n",
    "     'GradientBoostingClassifier': GradientBoostingClassifier(random_state=143),   \n",
    "     'RandomForestClassifier': RandomForestClassifier(random_state=143),\n",
    "     'LogisticRegressor': LogisticRegression(),\n",
    " }"
   ]
  },
  {
   "cell_type": "code",
   "execution_count": 7,
   "metadata": {
    "ExecuteTime": {
     "end_time": "2022-06-25T18:03:16.405058Z",
     "start_time": "2022-06-25T18:00:47.131514Z"
    }
   },
   "outputs": [
    {
     "data": {
      "application/vnd.jupyter.widget-view+json": {
       "model_id": "37bb09e557f941c49a76f389092fb505",
       "version_major": 2,
       "version_minor": 0
      },
      "text/plain": [
       "0it [00:00, ?it/s]"
      ]
     },
     "metadata": {},
     "output_type": "display_data"
    },
    {
     "data": {
      "application/vnd.jupyter.widget-view+json": {
       "model_id": "e3a5d0b9e7fb438ba683dfa4ce7248fc",
       "version_major": 2,
       "version_minor": 0
      },
      "text/plain": [
       "0it [00:00, ?it/s]"
      ]
     },
     "metadata": {},
     "output_type": "display_data"
    },
    {
     "data": {
      "application/vnd.jupyter.widget-view+json": {
       "model_id": "8399954e4c864a46bedb7b6fe25bcab6",
       "version_major": 2,
       "version_minor": 0
      },
      "text/plain": [
       "0it [00:00, ?it/s]"
      ]
     },
     "metadata": {},
     "output_type": "display_data"
    },
    {
     "data": {
      "text/html": [
       "<div>\n",
       "<style scoped>\n",
       "    .dataframe tbody tr th:only-of-type {\n",
       "        vertical-align: middle;\n",
       "    }\n",
       "\n",
       "    .dataframe tbody tr th {\n",
       "        vertical-align: top;\n",
       "    }\n",
       "\n",
       "    .dataframe thead th {\n",
       "        text-align: right;\n",
       "    }\n",
       "</style>\n",
       "<table border=\"1\" class=\"dataframe\">\n",
       "  <thead>\n",
       "    <tr style=\"text-align: right;\">\n",
       "      <th></th>\n",
       "      <th>Train Accuracy</th>\n",
       "      <th>Val Accuracy</th>\n",
       "      <th>Train Recall</th>\n",
       "      <th>Val Recall</th>\n",
       "      <th>Run Time</th>\n",
       "    </tr>\n",
       "  </thead>\n",
       "  <tbody>\n",
       "    <tr>\n",
       "      <th>GradientBoostingClassifier</th>\n",
       "      <td>99.82%</td>\n",
       "      <td>99.30%</td>\n",
       "      <td>99.74%</td>\n",
       "      <td>93.68%</td>\n",
       "      <td>1.997452</td>\n",
       "    </tr>\n",
       "    <tr>\n",
       "      <th>RandomForestClassifier</th>\n",
       "      <td>100.00%</td>\n",
       "      <td>99.27%</td>\n",
       "      <td>100.00%</td>\n",
       "      <td>88.42%</td>\n",
       "      <td>0.674152</td>\n",
       "    </tr>\n",
       "    <tr>\n",
       "      <th>LogisticRegressor</th>\n",
       "      <td>98.69%</td>\n",
       "      <td>98.30%</td>\n",
       "      <td>68.16%</td>\n",
       "      <td>60.35%</td>\n",
       "      <td>0.055013</td>\n",
       "    </tr>\n",
       "  </tbody>\n",
       "</table>\n",
       "</div>"
      ],
      "text/plain": [
       "                           Train Accuracy Val Accuracy Train Recall  \\\n",
       "GradientBoostingClassifier         99.82%       99.30%       99.74%   \n",
       "RandomForestClassifier            100.00%       99.27%      100.00%   \n",
       "LogisticRegressor                  98.69%       98.30%       68.16%   \n",
       "\n",
       "                           Val Recall  Run Time  \n",
       "GradientBoostingClassifier     93.68%  1.997452  \n",
       "RandomForestClassifier         88.42%  0.674152  \n",
       "LogisticRegressor              60.35%  0.055013  "
      ]
     },
     "execution_count": 7,
     "metadata": {},
     "output_type": "execute_result"
    }
   ],
   "source": [
    "auto_run = auto_ml(X_trainval, y_trainval, models_dict, scaler=MinMaxScaler(),\n",
    "               cv=StratifiedKFold(n_splits=5))\n",
    "auto = auto_run[0]\n",
    "auto_run[1]"
   ]
  },
  {
   "cell_type": "markdown",
   "metadata": {},
   "source": [
    "### Applying resampling techniques"
   ]
  },
  {
   "cell_type": "markdown",
   "metadata": {},
   "source": [
    "#### Oversampling"
   ]
  },
  {
   "cell_type": "code",
   "execution_count": 12,
   "metadata": {
    "ExecuteTime": {
     "end_time": "2022-06-25T17:27:00.661394Z",
     "start_time": "2022-06-25T17:07:24.494356Z"
    }
   },
   "outputs": [
    {
     "name": "stdout",
     "output_type": "stream",
     "text": [
      "---------------------------------------------------\u001b[1m\u001b[31mSMOTE\u001b[0m---------------------------------------------------\n"
     ]
    },
    {
     "data": {
      "application/vnd.jupyter.widget-view+json": {
       "model_id": "df28cbdd1c3e4d289a2df6d4af2dfeaf",
       "version_major": 2,
       "version_minor": 0
      },
      "text/plain": [
       "0it [00:00, ?it/s]"
      ]
     },
     "metadata": {},
     "output_type": "display_data"
    },
    {
     "name": "stdout",
     "output_type": "stream",
     "text": [
      "Resampling done in 0.11402559280395508\n",
      "Resampling done in 0.051010847091674805\n",
      "Resampling done in 0.037009477615356445\n",
      "Resampling done in 0.04000997543334961\n",
      "Resampling done in 0.03600883483886719\n"
     ]
    },
    {
     "data": {
      "application/vnd.jupyter.widget-view+json": {
       "model_id": "385cb15e376646c59d28d787cdee45e7",
       "version_major": 2,
       "version_minor": 0
      },
      "text/plain": [
       "0it [00:00, ?it/s]"
      ]
     },
     "metadata": {},
     "output_type": "display_data"
    },
    {
     "name": "stdout",
     "output_type": "stream",
     "text": [
      "Resampling done in 0.0400090217590332\n",
      "Resampling done in 0.03800845146179199\n",
      "Resampling done in 0.03700828552246094\n",
      "Resampling done in 0.03500795364379883\n",
      "Resampling done in 0.036008358001708984\n"
     ]
    },
    {
     "data": {
      "application/vnd.jupyter.widget-view+json": {
       "model_id": "dcb9b4e510c044339136b99eef0af1bd",
       "version_major": 2,
       "version_minor": 0
      },
      "text/plain": [
       "0it [00:00, ?it/s]"
      ]
     },
     "metadata": {},
     "output_type": "display_data"
    },
    {
     "name": "stdout",
     "output_type": "stream",
     "text": [
      "Resampling done in 0.041008949279785156\n",
      "Resampling done in 0.03900909423828125\n",
      "Resampling done in 0.03600811958312988\n",
      "Resampling done in 0.033007144927978516\n",
      "Resampling done in 0.03800797462463379\n"
     ]
    },
    {
     "data": {
      "text/html": [
       "<div>\n",
       "<style scoped>\n",
       "    .dataframe tbody tr th:only-of-type {\n",
       "        vertical-align: middle;\n",
       "    }\n",
       "\n",
       "    .dataframe tbody tr th {\n",
       "        vertical-align: top;\n",
       "    }\n",
       "\n",
       "    .dataframe thead th {\n",
       "        text-align: right;\n",
       "    }\n",
       "</style>\n",
       "<table border=\"1\" class=\"dataframe\">\n",
       "  <thead>\n",
       "    <tr style=\"text-align: right;\">\n",
       "      <th></th>\n",
       "      <th>Train Accuracy</th>\n",
       "      <th>Val Accuracy</th>\n",
       "      <th>Train Recall</th>\n",
       "      <th>Val Recall</th>\n",
       "      <th>Run Time</th>\n",
       "    </tr>\n",
       "  </thead>\n",
       "  <tbody>\n",
       "    <tr>\n",
       "      <th>GradientBoostingClassifier</th>\n",
       "      <td>99.82%</td>\n",
       "      <td>99.27%</td>\n",
       "      <td>99.99%</td>\n",
       "      <td>96.49%</td>\n",
       "      <td>6.01936</td>\n",
       "    </tr>\n",
       "    <tr>\n",
       "      <th>RandomForestClassifier</th>\n",
       "      <td>100.00%</td>\n",
       "      <td>99.28%</td>\n",
       "      <td>100.00%</td>\n",
       "      <td>90.88%</td>\n",
       "      <td>1.54735</td>\n",
       "    </tr>\n",
       "    <tr>\n",
       "      <th>LogisticRegressor</th>\n",
       "      <td>99.36%</td>\n",
       "      <td>98.53%</td>\n",
       "      <td>99.84%</td>\n",
       "      <td>94.04%</td>\n",
       "      <td>0.17504</td>\n",
       "    </tr>\n",
       "  </tbody>\n",
       "</table>\n",
       "</div>"
      ],
      "text/plain": [
       "                           Train Accuracy Val Accuracy Train Recall  \\\n",
       "GradientBoostingClassifier         99.82%       99.27%       99.99%   \n",
       "RandomForestClassifier            100.00%       99.28%      100.00%   \n",
       "LogisticRegressor                  99.36%       98.53%       99.84%   \n",
       "\n",
       "                           Val Recall Run Time  \n",
       "GradientBoostingClassifier     96.49%  6.01936  \n",
       "RandomForestClassifier         90.88%  1.54735  \n",
       "LogisticRegressor              94.04%  0.17504  "
      ]
     },
     "metadata": {},
     "output_type": "display_data"
    },
    {
     "name": "stdout",
     "output_type": "stream",
     "text": [
      "--------------------------------------------------\u001b[1m\u001b[31mADASYN\u001b[0m---------------------------------------------------\n"
     ]
    },
    {
     "data": {
      "application/vnd.jupyter.widget-view+json": {
       "model_id": "cf67fe605d784c189c1165843fc9b1f1",
       "version_major": 2,
       "version_minor": 0
      },
      "text/plain": [
       "0it [00:00, ?it/s]"
      ]
     },
     "metadata": {},
     "output_type": "display_data"
    },
    {
     "name": "stdout",
     "output_type": "stream",
     "text": [
      "Resampling done in 0.05501246452331543\n",
      "Resampling done in 0.045011043548583984\n",
      "Resampling done in 0.05901288986206055\n",
      "Resampling done in 0.05701279640197754\n",
      "Resampling done in 0.0580134391784668\n"
     ]
    },
    {
     "data": {
      "application/vnd.jupyter.widget-view+json": {
       "model_id": "38cb169cfdca46a89522f919baf8b4e8",
       "version_major": 2,
       "version_minor": 0
      },
      "text/plain": [
       "0it [00:00, ?it/s]"
      ]
     },
     "metadata": {},
     "output_type": "display_data"
    },
    {
     "name": "stdout",
     "output_type": "stream",
     "text": [
      "Resampling done in 0.06201362609863281\n",
      "Resampling done in 0.05401349067687988\n",
      "Resampling done in 0.05501222610473633\n",
      "Resampling done in 0.05601215362548828\n",
      "Resampling done in 0.07101607322692871\n"
     ]
    },
    {
     "data": {
      "application/vnd.jupyter.widget-view+json": {
       "model_id": "676c7534389b4cafa2e58c08e9bc1efb",
       "version_major": 2,
       "version_minor": 0
      },
      "text/plain": [
       "0it [00:00, ?it/s]"
      ]
     },
     "metadata": {},
     "output_type": "display_data"
    },
    {
     "name": "stdout",
     "output_type": "stream",
     "text": [
      "Resampling done in 0.06001424789428711\n",
      "Resampling done in 0.05801248550415039\n",
      "Resampling done in 0.056012630462646484\n",
      "Resampling done in 0.05901384353637695\n",
      "Resampling done in 0.05901217460632324\n"
     ]
    },
    {
     "data": {
      "text/html": [
       "<div>\n",
       "<style scoped>\n",
       "    .dataframe tbody tr th:only-of-type {\n",
       "        vertical-align: middle;\n",
       "    }\n",
       "\n",
       "    .dataframe tbody tr th {\n",
       "        vertical-align: top;\n",
       "    }\n",
       "\n",
       "    .dataframe thead th {\n",
       "        text-align: right;\n",
       "    }\n",
       "</style>\n",
       "<table border=\"1\" class=\"dataframe\">\n",
       "  <thead>\n",
       "    <tr style=\"text-align: right;\">\n",
       "      <th></th>\n",
       "      <th>Train Accuracy</th>\n",
       "      <th>Val Accuracy</th>\n",
       "      <th>Train Recall</th>\n",
       "      <th>Val Recall</th>\n",
       "      <th>Run Time</th>\n",
       "    </tr>\n",
       "  </thead>\n",
       "  <tbody>\n",
       "    <tr>\n",
       "      <th>GradientBoostingClassifier</th>\n",
       "      <td>99.80%</td>\n",
       "      <td>99.18%</td>\n",
       "      <td>99.98%</td>\n",
       "      <td>94.74%</td>\n",
       "      <td>6.515473</td>\n",
       "    </tr>\n",
       "    <tr>\n",
       "      <th>RandomForestClassifier</th>\n",
       "      <td>100.00%</td>\n",
       "      <td>99.22%</td>\n",
       "      <td>100.00%</td>\n",
       "      <td>90.53%</td>\n",
       "      <td>1.708386</td>\n",
       "    </tr>\n",
       "    <tr>\n",
       "      <th>LogisticRegressor</th>\n",
       "      <td>99.35%</td>\n",
       "      <td>98.45%</td>\n",
       "      <td>99.91%</td>\n",
       "      <td>94.04%</td>\n",
       "      <td>0.239056</td>\n",
       "    </tr>\n",
       "  </tbody>\n",
       "</table>\n",
       "</div>"
      ],
      "text/plain": [
       "                           Train Accuracy Val Accuracy Train Recall  \\\n",
       "GradientBoostingClassifier         99.80%       99.18%       99.98%   \n",
       "RandomForestClassifier            100.00%       99.22%      100.00%   \n",
       "LogisticRegressor                  99.35%       98.45%       99.91%   \n",
       "\n",
       "                           Val Recall  Run Time  \n",
       "GradientBoostingClassifier     94.74%  6.515473  \n",
       "RandomForestClassifier         90.53%  1.708386  \n",
       "LogisticRegressor              94.04%  0.239056  "
      ]
     },
     "metadata": {},
     "output_type": "display_data"
    }
   ],
   "source": [
    "res_list = [('SMOTE', SMOTE()),\n",
    "            ('ADASYN', ADASYN())]\n",
    "\n",
    "outputs = []\n",
    "for title, res in res_list:\n",
    "    print(colored(title, 'red', attrs=['bold']).center(120, \"-\"))\n",
    "    var = auto_ml(X_trainval, y_trainval, models_dict, scaler=MinMaxScaler(),\n",
    "                    cv=StratifiedKFold(n_splits=5), res_t=res)\n",
    "    outputs.append(var[0])\n",
    "    display(var[1])"
   ]
  },
  {
   "cell_type": "code",
   "execution_count": 13,
   "metadata": {
    "ExecuteTime": {
     "end_time": "2022-06-25T18:06:15.490376Z",
     "start_time": "2022-06-25T18:06:15.165986Z"
    }
   },
   "outputs": [
    {
     "data": {
      "image/png": "[encoded data removed]",
      "text/plain": [
       "<Figure size 2000x800 with 1 Axes>"
      ]
     },
     "metadata": {},
     "output_type": "display_data"
    }
   ],
   "source": [
    "ps_over = pd.DataFrame(index=models_dict.keys())\n",
    "ps_over['NoResampling Val Recall'] = auto_run[1]['Val Recall']\n",
    "ps_over['SMOTE Val Recall'] = outputs[0]['Val Recall']\n",
    "ps_over['ADASYN Val Recall'] = outputs[1]['Val Recall']\n",
    "fig, ax = plt.subplots(figsize=(20, 8))\n",
    "ps_over.plot.bar(ax=ax)\n",
    "ax.set_ylabel('Recall Score', fontsize=12)\n",
    "for spine in ['right', 'top']:\n",
    "        ax.spines[spine].set_visible(False)\n",
    "ax.legend(edgecolor='white')\n",
    "fig.suptitle(\"Resampling Techniques-Oversampling\", size=15, y=0.9, weight='bold')\n",
    "plt.xticks(rotation=45, fontsize=12)\n",
    "plt.show()"
   ]
  },
  {
   "cell_type": "markdown",
   "metadata": {},
   "source": [
    "#### Undersampling"
   ]
  },
  {
   "cell_type": "code",
   "execution_count": 14,
   "metadata": {
    "ExecuteTime": {
     "end_time": "2022-06-25T18:40:04.141335Z",
     "start_time": "2022-06-25T18:09:12.815457Z"
    }
   },
   "outputs": [
    {
     "name": "stdout",
     "output_type": "stream",
     "text": [
      "------------------------------------------------\u001b[1m\u001b[31mTomekLinks\u001b[0m-------------------------------------------------\n"
     ]
    },
    {
     "data": {
      "application/vnd.jupyter.widget-view+json": {
       "model_id": "7cbb6b6580134ba3b495d4816bebd584",
       "version_major": 2,
       "version_minor": 0
      },
      "text/plain": [
       "0it [00:00, ?it/s]"
      ]
     },
     "metadata": {},
     "output_type": "display_data"
    },
    {
     "name": "stdout",
     "output_type": "stream",
     "text": [
      "Resampling done in 0.1360301971435547\n",
      "Resampling done in 0.12102603912353516\n",
      "Resampling done in 0.12202715873718262\n",
      "Resampling done in 0.12502789497375488\n",
      "Resampling done in 0.12502717971801758\n"
     ]
    },
    {
     "data": {
      "application/vnd.jupyter.widget-view+json": {
       "model_id": "e0b86ea70a31491a974f894186c24d64",
       "version_major": 2,
       "version_minor": 0
      },
      "text/plain": [
       "0it [00:00, ?it/s]"
      ]
     },
     "metadata": {},
     "output_type": "display_data"
    },
    {
     "name": "stdout",
     "output_type": "stream",
     "text": [
      "Resampling done in 0.14603161811828613\n",
      "Resampling done in 0.13503026962280273\n",
      "Resampling done in 0.13503026962280273\n",
      "Resampling done in 0.17003870010375977\n",
      "Resampling done in 0.13402915000915527\n"
     ]
    },
    {
     "data": {
      "application/vnd.jupyter.widget-view+json": {
       "model_id": "33750be3db8146bf9217e70a0e3cea03",
       "version_major": 2,
       "version_minor": 0
      },
      "text/plain": [
       "0it [00:00, ?it/s]"
      ]
     },
     "metadata": {},
     "output_type": "display_data"
    },
    {
     "name": "stdout",
     "output_type": "stream",
     "text": [
      "Resampling done in 0.1290280818939209\n",
      "Resampling done in 0.13102936744689941\n",
      "Resampling done in 0.14603257179260254\n",
      "Resampling done in 0.1400306224822998\n",
      "Resampling done in 0.14103150367736816\n"
     ]
    },
    {
     "data": {
      "text/html": [
       "<div>\n",
       "<style scoped>\n",
       "    .dataframe tbody tr th:only-of-type {\n",
       "        vertical-align: middle;\n",
       "    }\n",
       "\n",
       "    .dataframe tbody tr th {\n",
       "        vertical-align: top;\n",
       "    }\n",
       "\n",
       "    .dataframe thead th {\n",
       "        text-align: right;\n",
       "    }\n",
       "</style>\n",
       "<table border=\"1\" class=\"dataframe\">\n",
       "  <thead>\n",
       "    <tr style=\"text-align: right;\">\n",
       "      <th></th>\n",
       "      <th>Train Accuracy</th>\n",
       "      <th>Val Accuracy</th>\n",
       "      <th>Train Recall</th>\n",
       "      <th>Val Recall</th>\n",
       "      <th>Run Time</th>\n",
       "    </tr>\n",
       "  </thead>\n",
       "  <tbody>\n",
       "    <tr>\n",
       "      <th>GradientBoostingClassifier</th>\n",
       "      <td>99.81%</td>\n",
       "      <td>99.28%</td>\n",
       "      <td>99.65%</td>\n",
       "      <td>92.98%</td>\n",
       "      <td>2.197497</td>\n",
       "    </tr>\n",
       "    <tr>\n",
       "      <th>RandomForestClassifier</th>\n",
       "      <td>100.00%</td>\n",
       "      <td>99.30%</td>\n",
       "      <td>100.00%</td>\n",
       "      <td>89.12%</td>\n",
       "      <td>0.695158</td>\n",
       "    </tr>\n",
       "    <tr>\n",
       "      <th>LogisticRegressor</th>\n",
       "      <td>98.71%</td>\n",
       "      <td>98.30%</td>\n",
       "      <td>68.60%</td>\n",
       "      <td>60.35%</td>\n",
       "      <td>0.051012</td>\n",
       "    </tr>\n",
       "  </tbody>\n",
       "</table>\n",
       "</div>"
      ],
      "text/plain": [
       "                           Train Accuracy Val Accuracy Train Recall  \\\n",
       "GradientBoostingClassifier         99.81%       99.28%       99.65%   \n",
       "RandomForestClassifier            100.00%       99.30%      100.00%   \n",
       "LogisticRegressor                  98.71%       98.30%       68.60%   \n",
       "\n",
       "                           Val Recall  Run Time  \n",
       "GradientBoostingClassifier     92.98%  2.197497  \n",
       "RandomForestClassifier         89.12%  0.695158  \n",
       "LogisticRegressor              60.35%  0.051012  "
      ]
     },
     "metadata": {},
     "output_type": "display_data"
    },
    {
     "name": "stdout",
     "output_type": "stream",
     "text": [
      "-------------------------------------------------\u001b[1m\u001b[31mNearMiss\u001b[0m--------------------------------------------------\n"
     ]
    },
    {
     "data": {
      "application/vnd.jupyter.widget-view+json": {
       "model_id": "3d37cc4d9b2947e8877d3ac556d82a7c",
       "version_major": 2,
       "version_minor": 0
      },
      "text/plain": [
       "0it [00:00, ?it/s]"
      ]
     },
     "metadata": {},
     "output_type": "display_data"
    },
    {
     "name": "stdout",
     "output_type": "stream",
     "text": [
      "Resampling done in 0.033007144927978516\n",
      "Resampling done in 0.02600574493408203\n",
      "Resampling done in 0.023005008697509766\n",
      "Resampling done in 0.023004531860351562\n",
      "Resampling done in 0.025005340576171875\n"
     ]
    },
    {
     "data": {
      "application/vnd.jupyter.widget-view+json": {
       "model_id": "e0eab7a264a04282bba1f9f1f6ba5309",
       "version_major": 2,
       "version_minor": 0
      },
      "text/plain": [
       "0it [00:00, ?it/s]"
      ]
     },
     "metadata": {},
     "output_type": "display_data"
    },
    {
     "name": "stdout",
     "output_type": "stream",
     "text": [
      "Resampling done in 0.02600550651550293\n",
      "Resampling done in 0.02600550651550293\n",
      "Resampling done in 0.028006315231323242\n",
      "Resampling done in 0.026005983352661133\n",
      "Resampling done in 0.026005268096923828\n"
     ]
    },
    {
     "data": {
      "application/vnd.jupyter.widget-view+json": {
       "model_id": "223b4f5d7ce2465d8499b23a69c0bb79",
       "version_major": 2,
       "version_minor": 0
      },
      "text/plain": [
       "0it [00:00, ?it/s]"
      ]
     },
     "metadata": {},
     "output_type": "display_data"
    },
    {
     "name": "stdout",
     "output_type": "stream",
     "text": [
      "Resampling done in 0.026005268096923828\n",
      "Resampling done in 0.029005765914916992\n",
      "Resampling done in 0.033007144927978516\n",
      "Resampling done in 0.026005983352661133\n",
      "Resampling done in 0.029006004333496094\n"
     ]
    },
    {
     "data": {
      "text/html": [
       "<div>\n",
       "<style scoped>\n",
       "    .dataframe tbody tr th:only-of-type {\n",
       "        vertical-align: middle;\n",
       "    }\n",
       "\n",
       "    .dataframe tbody tr th {\n",
       "        vertical-align: top;\n",
       "    }\n",
       "\n",
       "    .dataframe thead th {\n",
       "        text-align: right;\n",
       "    }\n",
       "</style>\n",
       "<table border=\"1\" class=\"dataframe\">\n",
       "  <thead>\n",
       "    <tr style=\"text-align: right;\">\n",
       "      <th></th>\n",
       "      <th>Train Accuracy</th>\n",
       "      <th>Val Accuracy</th>\n",
       "      <th>Train Recall</th>\n",
       "      <th>Val Recall</th>\n",
       "      <th>Run Time</th>\n",
       "    </tr>\n",
       "  </thead>\n",
       "  <tbody>\n",
       "    <tr>\n",
       "      <th>GradientBoostingClassifier</th>\n",
       "      <td>100.00%</td>\n",
       "      <td>97.90%</td>\n",
       "      <td>100.00%</td>\n",
       "      <td>98.25%</td>\n",
       "      <td>0.224051</td>\n",
       "    </tr>\n",
       "    <tr>\n",
       "      <th>RandomForestClassifier</th>\n",
       "      <td>100.00%</td>\n",
       "      <td>97.67%</td>\n",
       "      <td>100.00%</td>\n",
       "      <td>97.89%</td>\n",
       "      <td>0.22105</td>\n",
       "    </tr>\n",
       "    <tr>\n",
       "      <th>LogisticRegressor</th>\n",
       "      <td>97.81%</td>\n",
       "      <td>93.08%</td>\n",
       "      <td>96.75%</td>\n",
       "      <td>94.04%</td>\n",
       "      <td>0.020006</td>\n",
       "    </tr>\n",
       "  </tbody>\n",
       "</table>\n",
       "</div>"
      ],
      "text/plain": [
       "                           Train Accuracy Val Accuracy Train Recall  \\\n",
       "GradientBoostingClassifier        100.00%       97.90%      100.00%   \n",
       "RandomForestClassifier            100.00%       97.67%      100.00%   \n",
       "LogisticRegressor                  97.81%       93.08%       96.75%   \n",
       "\n",
       "                           Val Recall  Run Time  \n",
       "GradientBoostingClassifier     98.25%  0.224051  \n",
       "RandomForestClassifier         97.89%   0.22105  \n",
       "LogisticRegressor              94.04%  0.020006  "
      ]
     },
     "metadata": {},
     "output_type": "display_data"
    }
   ],
   "source": [
    "res_list = [('TomekLinks', TomekLinks()),\n",
    "            ('NearMiss', NearMiss())]\n",
    "\n",
    "outputs_u = []\n",
    "for title, res in res_list:\n",
    "    print(colored(title, 'red', attrs=['bold']).center(120, \"-\"))\n",
    "    var = auto_ml(X_trainval, y_trainval, models_dict, scaler=MinMaxScaler(),\n",
    "                  cv=StratifiedKFold(n_splits=5), res_t=res)\n",
    "    outputs_u.append(var[0])\n",
    "    display(var[1])"
   ]
  },
  {
   "cell_type": "code",
   "execution_count": 15,
   "metadata": {
    "ExecuteTime": {
     "end_time": "2022-06-25T18:40:06.676847Z",
     "start_time": "2022-06-25T18:40:04.293020Z"
    }
   },
   "outputs": [
    {
     "data": {
      "image/png": "[encoded data removed]",
      "text/plain": [
       "<Figure size 2000x800 with 1 Axes>"
      ]
     },
     "metadata": {},
     "output_type": "display_data"
    }
   ],
   "source": [
    "ps_under = pd.DataFrame(index=models_dict.keys())\n",
    "ps_under['NoResampling Val Recall'] = auto_run[1]['Val Recall']\n",
    "ps_under['TomekLinks Val Recall'] = outputs_u[0]['Val Recall']\n",
    "ps_under['NearMiss Val Recall'] = outputs_u[1]['Val Recall']\n",
    "\n",
    "fig, ax = plt.subplots(figsize=(20, 8))\n",
    "ps_under.plot.bar(ax=ax)\n",
    "ax.set_ylabel('Recall Score', fontsize=12)\n",
    "for spine in ['right', 'top']:\n",
    "        ax.spines[spine].set_visible(False)\n",
    "ax.legend(edgecolor='white')\n",
    "fig.suptitle(\"Resampling Techniques-Undersampling\", size=15, y=0.9, weight='bold')\n",
    "plt.xticks(rotation=45, fontsize=12)\n",
    "plt.show()"
   ]
  },
  {
   "cell_type": "markdown",
   "metadata": {},
   "source": [
    "<div><span style=\"background-color: #ff0257; padding-top: 100px; padding-right: 20px; padding-bottom: 50px; padding-left: 20px; color: #FFFAF0; font-size: 18px; font-weight: bold\">Grid-Search and Randomized Search Cross Validation </span></div>"
   ]
  },
  {
   "cell_type": "markdown",
   "metadata": {},
   "source": [
    "[Grid Search](https://scikit-learn.org/stable/modules/generated/sklearn.model_selection.GridSearchCV.html) and [Randomized Search Cross Validation](https://scikit-learn.org/stable/modules/generated/sklearn.model_selection.RandomizedSearchCV.html) are commonly used to hypertune models across multiple parameters"
   ]
  },
  {
   "cell_type": "code",
   "execution_count": 16,
   "metadata": {
    "ExecuteTime": {
     "end_time": "2022-06-25T18:44:46.659479Z",
     "start_time": "2022-06-25T18:44:46.643942Z"
    }
   },
   "outputs": [],
   "source": [
    "def train_rf(X, y, metric, res_t=None, hypertune=False, resample=False):\n",
    "    \"\"\"Hypertune Gradient Boosting Classifier and apply NearMiss()\"\"\"\n",
    "    params = {'n_estimators': [50, 100, 150, 200],\n",
    "              'max_features': ['auto', 'sqrt', 'log2'],\n",
    "              'max_depth': list(range(3, 20))\n",
    "              }\n",
    "    new_params = {'gradientboostingclassifier__' +\n",
    "                  key: params[key] for key in params}\n",
    "\n",
    "    skf = StratifiedKFold(n_splits=5)\n",
    "    if resample is True:\n",
    "        imba_pipeline = make_pipeline(MinMaxScaler(),\n",
    "                                      res_t,\n",
    "                                      GradientBoostingClassifier())\n",
    "    else:\n",
    "        imba_pipeline = make_pipeline(MinMaxScaler(),\n",
    "                                      GradientBoostingClassifier())\n",
    "\n",
    "    if hypertune is True:\n",
    "        clf = GridSearchCV(imba_pipeline, param_grid=new_params,\n",
    "                           cv=skf, scoring=metric, return_train_score=True,\n",
    "                          verbose=10, n_jobs=-1)\n",
    "        start_time = time.time()\n",
    "        clf.fit(X, y)\n",
    "        run_time = (time.time() - start_time)\n",
    "        model = clf.best_estimator_.fit(X, y)\n",
    "        return ['GBC', np.mean(clf.cv_results_['mean_train_score']),\n",
    "                clf.best_score_, 'Best parameters = {0}'.format(\n",
    "                    clf.best_params_),\n",
    "                run_time, model]\n",
    "    else:\n",
    "        clf = imba_pipeline\n",
    "        start_time = time.time()\n",
    "        clf.fit(X, y)\n",
    "        run_time = (time.time() - start_time)\n",
    "        cv_scores = cross_validate(estimator=clf, X=X, y=y,\n",
    "                                   scoring=metric, cv=skf, n_jobs=-1,\n",
    "                                   return_train_score=True)\n",
    "\n",
    "        return ['GBC', np.mean(cv_scores['train_score']),\n",
    "                np.mean(cv_scores['test_score']), run_time, clf]"
   ]
  },
  {
   "cell_type": "code",
   "execution_count": 17,
   "metadata": {
    "scrolled": true,
    "tags": []
   },
   "outputs": [
    {
     "name": "stdout",
     "output_type": "stream",
     "text": [
      "Fitting 5 folds for each of 204 candidates, totalling 1020 fits\n",
      "Fitting 5 folds for each of 204 candidates, totalling 1020 fits\n"
     ]
    }
   ],
   "source": [
    "start_time = time.time()\n",
    "rf_tmk_rec = train_rf(X_trainval, y_trainval, 'recall', NearMiss(),\n",
    "                       hypertune=True, resample=True)\n",
    "start_time = time.time()\n",
    "rf_tmk_acc = train_rf(X_trainval, y_trainval, 'accuracy', NearMiss(),\n",
    "                      hypertune=True, resample=True)"
   ]
  },
  {
   "cell_type": "code",
   "execution_count": 18,
   "metadata": {},
   "outputs": [
    {
     "data": {
      "text/html": [
       "<style type=\"text/css\">\n",
       "</style>\n",
       "<table id=\"T_8a227\">\n",
       "  <thead>\n",
       "    <tr>\n",
       "      <th id=\"T_8a227_level0_col0\" class=\"col_heading level0 col0\" ></th>\n",
       "      <th id=\"T_8a227_level0_col1\" class=\"col_heading level0 col1\" >Train Accuracy</th>\n",
       "      <th id=\"T_8a227_level0_col2\" class=\"col_heading level0 col2\" >Val Accuracy</th>\n",
       "      <th id=\"T_8a227_level0_col3\" class=\"col_heading level0 col3\" >Train Recall</th>\n",
       "      <th id=\"T_8a227_level0_col4\" class=\"col_heading level0 col4\" >Val Recall</th>\n",
       "    </tr>\n",
       "  </thead>\n",
       "  <tbody>\n",
       "    <tr>\n",
       "      <td id=\"T_8a227_row0_col0\" class=\"data row0 col0\" >GBC</td>\n",
       "      <td id=\"T_8a227_row0_col1\" class=\"data row0 col1\" >97.29%</td>\n",
       "      <td id=\"T_8a227_row0_col2\" class=\"data row0 col2\" >97.97%</td>\n",
       "      <td id=\"T_8a227_row0_col3\" class=\"data row0 col3\" >99.92%</td>\n",
       "      <td id=\"T_8a227_row0_col4\" class=\"data row0 col4\" >98.60%</td>\n",
       "    </tr>\n",
       "  </tbody>\n",
       "</table>\n"
      ],
      "text/plain": [
       "<pandas.io.formats.style.Styler at 0x26dc31e3190>"
      ]
     },
     "execution_count": 18,
     "metadata": {},
     "output_type": "execute_result"
    }
   ],
   "source": [
    "cols = ['', 'Train Accuracy', 'Val Accuracy',\n",
    "        'Train Recall', 'Val Recall']\n",
    "hyper = pd.DataFrame(columns=cols)\n",
    "hyper.loc[0] = [rf_tmk_rec[0],\n",
    "                np.round(rf_tmk_acc[1]*100, 6),\n",
    "                np.round(rf_tmk_acc[2]*100, 6),\n",
    "                np.round(rf_tmk_rec[1]*100, 6),\n",
    "                np.round(rf_tmk_rec[2]*100, 6)]\n",
    "hyper2 = pd.DataFrame(columns=cols)\n",
    "hyper2.loc[0] = [rf_tmk_rec[0],\n",
    "                 '{:.2f}%'.format(np.round(rf_tmk_acc[1]*100, 2)),\n",
    "                 '{:.2f}%'.format(np.round(rf_tmk_acc[2]*100, 2)),\n",
    "                 '{:.2f}%'.format(np.round(rf_tmk_rec[1]*100, 2)),\n",
    "                 '{:.2f}%'.format(np.round(rf_tmk_rec[2]*100, 2))]\n",
    "hyper2.style.hide_index()"
   ]
  },
  {
   "cell_type": "code",
   "execution_count": 19,
   "metadata": {},
   "outputs": [
    {
     "data": {
      "text/plain": [
       "['GBC',\n",
       " 0.9991529067767458,\n",
       " 0.9859649122807017,\n",
       " \"Best parameters = {'gradientboostingclassifier__max_depth': 4, 'gradientboostingclassifier__max_features': 'sqrt', 'gradientboostingclassifier__n_estimators': 200}\",\n",
       " 80.62373685836792,\n",
       " Pipeline(steps=[('minmaxscaler', MinMaxScaler()), ('nearmiss', NearMiss()),\n",
       "                 ('gradientboostingclassifier',\n",
       "                  GradientBoostingClassifier(max_depth=4, max_features='sqrt',\n",
       "                                             n_estimators=200))])]"
      ]
     },
     "execution_count": 19,
     "metadata": {},
     "output_type": "execute_result"
    }
   ],
   "source": [
    "rf_tmk_rec"
   ]
  },
  {
   "cell_type": "code",
   "execution_count": 20,
   "metadata": {},
   "outputs": [],
   "source": [
    "# re-fitting for the holdout\n",
    "rh = rf_tmk_rec[-1]\n",
    "rh.fit(X_trainval, y_trainval)\n",
    "y_preds = rh.predict(X_holdout)\n",
    "rh_holdout_score = recall_score(y_holdout, y_preds)"
   ]
  },
  {
   "cell_type": "code",
   "execution_count": 21,
   "metadata": {},
   "outputs": [
    {
     "data": {
      "text/plain": [
       "0.9894736842105263"
      ]
     },
     "execution_count": 21,
     "metadata": {},
     "output_type": "execute_result"
    }
   ],
   "source": [
    "rh_holdout_score"
   ]
  },
  {
   "cell_type": "markdown",
   "metadata": {},
   "source": [
    "#### Base-case"
   ]
  },
  {
   "cell_type": "code",
   "execution_count": 22,
   "metadata": {
    "ExecuteTime": {
     "end_time": "2022-06-25T18:48:02.907470Z",
     "start_time": "2022-06-25T18:44:52.169864Z"
    }
   },
   "outputs": [],
   "source": [
    "# cross-validation\n",
    "base_var = train_rf(X_trainval, y_trainval, 'recall', hypertune=False, resample=False)\n",
    "\n",
    "# re-fitting for the holdout\n",
    "base_model = base_var[-1]\n",
    "base_model.fit(X_trainval, y_trainval)\n",
    "y_preds = base_model.predict(X_holdout)\n",
    "holdout_score = recall_score(y_holdout, y_preds)"
   ]
  },
  {
   "cell_type": "code",
   "execution_count": 23,
   "metadata": {
    "ExecuteTime": {
     "end_time": "2022-06-25T18:48:26.485006Z",
     "start_time": "2022-06-25T18:48:26.111606Z"
    }
   },
   "outputs": [
    {
     "data": {
      "text/plain": [
       "0.9473684210526315"
      ]
     },
     "execution_count": 23,
     "metadata": {},
     "output_type": "execute_result"
    }
   ],
   "source": [
    "holdout_score"
   ]
  },
  {
   "cell_type": "code",
   "execution_count": 24,
   "metadata": {},
   "outputs": [
    {
     "data": {
      "text/html": [
       "<style type=\"text/css\">\n",
       "</style>\n",
       "<table id=\"T_9d85f\">\n",
       "  <thead>\n",
       "    <tr>\n",
       "      <th id=\"T_9d85f_level0_col0\" class=\"col_heading level0 col0\" >Method</th>\n",
       "      <th id=\"T_9d85f_level0_col1\" class=\"col_heading level0 col1\" >Train Recall</th>\n",
       "      <th id=\"T_9d85f_level0_col2\" class=\"col_heading level0 col2\" >Val Recall</th>\n",
       "      <th id=\"T_9d85f_level0_col3\" class=\"col_heading level0 col3\" >Holdout Recall</th>\n",
       "    </tr>\n",
       "  </thead>\n",
       "  <tbody>\n",
       "    <tr>\n",
       "      <td id=\"T_9d85f_row0_col0\" class=\"data row0 col0\" >No Resampling</td>\n",
       "      <td id=\"T_9d85f_row0_col1\" class=\"data row0 col1\" >99.74%</td>\n",
       "      <td id=\"T_9d85f_row0_col2\" class=\"data row0 col2\" >93.33%</td>\n",
       "      <td id=\"T_9d85f_row0_col3\" class=\"data row0 col3\" >94.74%</td>\n",
       "    </tr>\n",
       "    <tr>\n",
       "      <td id=\"T_9d85f_row1_col0\" class=\"data row1 col0\" >Resampling x Hypertune</td>\n",
       "      <td id=\"T_9d85f_row1_col1\" class=\"data row1 col1\" >99.92%</td>\n",
       "      <td id=\"T_9d85f_row1_col2\" class=\"data row1 col2\" >98.60%</td>\n",
       "      <td id=\"T_9d85f_row1_col3\" class=\"data row1 col3\" >98.95%</td>\n",
       "    </tr>\n",
       "  </tbody>\n",
       "</table>\n"
      ],
      "text/plain": [
       "<pandas.io.formats.style.Styler at 0x26dc3424460>"
      ]
     },
     "execution_count": 24,
     "metadata": {},
     "output_type": "execute_result"
    }
   ],
   "source": [
    "cols = ['Method', 'Train Recall', 'Val Recall', 'Holdout Recall']\n",
    "summary = pd.DataFrame(columns=cols)\n",
    "summary.loc[0] = ['No Resampling',\n",
    "                 '{:.2f}%'.format(np.round(base_var[1]*100, 2)),\n",
    "                 '{:.2f}%'.format(np.round(base_var[2]*100, 2)),\n",
    "                 '{:.2f}%'.format(np.round(holdout_score*100, 2))]\n",
    "summary.loc[3] = ['Resampling x Hypertune',\n",
    "                 '{:.2f}%'.format(np.round(rf_tmk_rec[1]*100, 2)),\n",
    "                 '{:.2f}%'.format(np.round(rf_tmk_rec[2]*100, 2)),\n",
    "                 '{:.2f}%'.format(np.round(rh_holdout_score*100, 2))]\n",
    "summary.style.hide_index()"
   ]
  },
  {
   "cell_type": "code",
   "execution_count": 25,
   "metadata": {},
   "outputs": [],
   "source": [
    "import pickle\n",
    "output = open('pickles/gbc_hypertuned.pkl', 'wb')\n",
    "pickle.dump(rh, output)\n",
    "output.close()\n"
   ]
  },
  {
   "cell_type": "markdown",
   "metadata": {},
   "source": [
    "# Interpretability"
   ]
  },
  {
   "cell_type": "code",
   "execution_count": 26,
   "metadata": {},
   "outputs": [],
   "source": [
    "#model = rh\n",
    "model = rh.fit(X_trainval, y_trainval)"
   ]
  },
  {
   "cell_type": "code",
   "execution_count": 27,
   "metadata": {},
   "outputs": [
    {
     "data": {
      "text/plain": [
       "7819"
      ]
     },
     "metadata": {},
     "output_type": "display_data"
    },
    {
     "data": {
      "text/plain": [
       "array([1, 0, 0, ..., 1, 0, 0], dtype=int64)"
      ]
     },
     "execution_count": 27,
     "metadata": {},
     "output_type": "execute_result"
    }
   ],
   "source": [
    "display(len(X_trainval))\n",
    "model.predict(X_trainval)"
   ]
  },
  {
   "cell_type": "code",
   "execution_count": 28,
   "metadata": {},
   "outputs": [
    {
     "name": "stdout",
     "output_type": "stream",
     "text": [
      "Holdout set score: 0.99\n"
     ]
    }
   ],
   "source": [
    "y_preds = model.predict(X_holdout)\n",
    "holdout_score = recall_score(y_holdout, y_preds)\n",
    "print(f\"Holdout set score: {holdout_score:.2f}\")\n"
   ]
  },
  {
   "cell_type": "code",
   "execution_count": 35,
   "metadata": {},
   "outputs": [],
   "source": [
    "# explainer = shap.TreeExplainer(model, feature_names=X_holdout.columns)\n",
    "# shap_values = explainer.shap_values(X_holdout)"
   ]
  },
  {
   "cell_type": "code",
   "execution_count": 30,
   "metadata": {},
   "outputs": [],
   "source": [
    "#KernelExplainer strongly suggests other measures to minimize computation. One of these is using `K-means` \n",
    "# to summarize the background training data instead of using it whole. Another method could be using a sample\n",
    "# of the training data. In this case, we opted for k-means clustering into 10 centroids.\n",
    "x_train_summary = shap.kmeans(X_trainval, 10)\n",
    "#x_train_summary = shap.kmeans(X_holdout, 10)\n",
    "\n",
    "\n",
    "#KernelExplainer takes a predict function for a model (`fitted_svm_mdl.predict_proba`) and\n",
    "# some background training data (`X_train_summary`)\n",
    "explainer = shap.KernelExplainer(model.predict_proba, x_train_summary)"
   ]
  },
  {
   "cell_type": "code",
   "execution_count": 31,
   "metadata": {},
   "outputs": [
    {
     "data": {
      "application/vnd.jupyter.widget-view+json": {
       "model_id": "f3a94b6e1d294094b4634e233302159f",
       "version_major": 2,
       "version_minor": 0
      },
      "text/plain": [
       "  0%|          | 0/2607 [00:00<?, ?it/s]"
      ]
     },
     "metadata": {},
     "output_type": "display_data"
    }
   ],
   "source": [
    "#Once we have initialized our explainer, we can use samples of our test dataset (`nsamples=200`) to come up \n",
    "# with the Shapely Values. It uses L1 regularization (`l1_reg`) during the fitting process.  What we are telling \n",
    "# it here is to regularize to the point it only has 20 relevant features.\n",
    "\n",
    "shap_values_test = explainer.shap_values(X_holdout,\\\n",
    "                                nsamples=200, l1_reg=\"num_features(20)\")\n",
    "\n"
   ]
  },
  {
   "cell_type": "code",
   "execution_count": 38,
   "metadata": {},
   "outputs": [],
   "source": [
    "import pickle\n",
    "\n",
    "#change explainer to rh/shap values\n",
    "output = open('data/explainer.pkl', 'wb')\n",
    "pickle.dump(explainer, output)\n",
    "output.close()\n",
    "\n",
    "\n",
    "output = open('data/gbc_hypertuned.pkl', 'wb')\n",
    "pickle.dump(rh, output)\n",
    "output.close()\n",
    "\n",
    "\n",
    "output = open('data/shap_values.pkl', 'wb')\n",
    "pickle.dump(shap_values_test, output)\n",
    "output.close()"
   ]
  },
  {
   "cell_type": "code",
   "execution_count": 39,
   "metadata": {},
   "outputs": [
    {
     "data": {
      "text/plain": [
       "<shap.explainers._kernel.Kernel at 0x26dc0815520>"
      ]
     },
     "execution_count": 39,
     "metadata": {},
     "output_type": "execute_result"
    }
   ],
   "source": [
    "explainer"
   ]
  }
 ],
 "metadata": {
  "kernelspec": {
   "display_name": "fraud_venv2",
   "language": "python",
   "name": "python3"
  },
  "language_info": {
   "codemirror_mode": {
    "name": "ipython",
    "version": 3
   },
   "file_extension": ".py",
   "mimetype": "text/x-python",
   "name": "python",
   "nbconvert_exporter": "python",
   "pygments_lexer": "ipython3",
   "version": "3.9.16"
  },
  "toc": {
   "base_numbering": 1,
   "nav_menu": {},
   "number_sections": true,
   "sideBar": true,
   "skip_h1_title": false,
   "title_cell": "Table of Contents",
   "title_sidebar": "Contents",
   "toc_cell": false,
   "toc_position": {},
   "toc_section_display": true,
   "toc_window_display": false
  },
  "vscode": {
   "interpreter": {
    "hash": "c0a5753ec2aa02a13847858bacb6e982115754ca9cffa607e3fd6d1b4ae36756"
   }
  }
 },
 "nbformat": 4,
 "nbformat_minor": 4
}
